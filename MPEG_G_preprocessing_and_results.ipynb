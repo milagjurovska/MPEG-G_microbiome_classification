{
 "cells": [
  {
   "cell_type": "code",
   "execution_count": null,
   "id": "initial_id",
   "metadata": {
    "collapsed": true
   },
   "outputs": [],
   "source": [
    "import os\n",
    "import zipfile\n",
    "import subprocess\n",
    "import random\n",
    "import pandas as pd\n",
    "import numpy as np\n",
    "import seaborn as sns\n",
    "import matplotlib.pyplot as plt\n",
    "import shutil\n",
    "\n",
    "from sklearn.model_selection import train_test_split\n",
    "from sklearn.preprocessing import LabelEncoder\n",
    "from sklearn.metrics import classification_report\n",
    "import warnings\n",
    "warnings.filterwarnings('ignore')"
   ]
  },
  {
   "metadata": {},
   "cell_type": "markdown",
   "source": "## Explore train, test and subject info",
   "id": "d9a2e4f86a101a8a"
  },
  {
   "metadata": {},
   "cell_type": "code",
   "outputs": [],
   "execution_count": null,
   "source": [
    "train_df = pd.read_csv( \"Train.csv\")\n",
    "test_df = pd.read_csv(\"Test.csv\")\n",
    "train_subjects_df = pd.read_csv(\"Train_Subjects.csv\")\n",
    "ss = pd.read_csv(\"SampleSubmission.csv\")"
   ],
   "id": "7003c659761d3441"
  },
  {
   "metadata": {},
   "cell_type": "code",
   "outputs": [],
   "execution_count": null,
   "source": [
    "print(f\"Number of unique subjects in train_df: {train_df['SubjectID'].nunique()}\")\n",
    "print(f\"Number of unique SampleType in train_df: {train_df['SampleType'].nunique()}\")\n",
    "print(f\"Number of unique Files in train_df: {train_df['filename'].nunique()}\")\n",
    "print(f\"Unique values in SampleType: {train_df['SampleType'].unique()}\")\n",
    "files_per_subject = train_df.groupby('SubjectID')['filename'].count().reset_index()\n",
    "files_per_subject = files_per_subject.rename(columns={'filename': 'FileCount'})\n",
    "average_files_per_subject = files_per_subject['FileCount'].mean()\n",
    "print(f\"Average number of files per SubjectID in train_df: {average_files_per_subject:.2f}\")\n",
    "plt.figure(figsize=(10, 6))\n",
    "plt.hist(files_per_subject['FileCount'], bins=20, edgecolor='black')\n",
    "plt.title('Distribution of Files per SubjectID in Train Data')\n",
    "plt.xlabel('Number of Files')\n",
    "plt.ylabel('Number of SubjectIDs')\n",
    "plt.grid(axis='y', alpha=0.75)\n",
    "plt.show()\n",
    "train_df.head()"
   ],
   "id": "99a3c71c3286ba7e"
  },
  {
   "metadata": {},
   "cell_type": "code",
   "outputs": [],
   "execution_count": null,
   "source": [
    "print(f\"Number of unique Files in test_df: {test_df['filename'].nunique()}\")\n",
    "test_df.head()"
   ],
   "id": "e10c340f69194596"
  },
  {
   "metadata": {},
   "cell_type": "markdown",
   "source": "## Explore fastq files",
   "id": "951367f2d49b678c"
  },
  {
   "metadata": {},
   "cell_type": "code",
   "outputs": [],
   "execution_count": null,
   "source": [
    "fastq_dir = \"TrainFiles\"\n",
    "all_stats = []\n",
    "\n",
    "for fname in os.listdir(fastq_dir):\n",
    "    if not fname.endswith(\".fastq\"):\n",
    "        continue\n",
    "\n",
    "    path = os.path.join(fastq_dir, fname)\n",
    "    read_lengths = []\n",
    "    gc_counts = []\n",
    "    nt_counts = Counter()\n",
    "\n",
    "    for record in SeqIO.parse(path, \"fastq\"):\n",
    "        seq = str(record.seq)\n",
    "        read_lengths.append(len(seq))\n",
    "        gc_counts.append(seq.count(\"G\") + seq.count(\"C\"))\n",
    "        nt_counts.update(seq)\n",
    "\n",
    "    if read_lengths:\n",
    "        stats = {\n",
    "            \"file\": fname,\n",
    "            \"num_reads\": len(read_lengths),\n",
    "            \"avg_read_length\": sum(read_lengths) / len(read_lengths),\n",
    "            \"avg_gc_content\": sum(gc_counts) / sum(read_lengths),\n",
    "            \"A\": nt_counts[\"A\"],\n",
    "            \"T\": nt_counts[\"T\"],\n",
    "            \"G\": nt_counts[\"G\"],\n",
    "            \"C\": nt_counts[\"C\"]\n",
    "        }\n",
    "        all_stats.append(stats)\n",
    "\n",
    "# Convert to DataFrame\n",
    "df = pd.DataFrame(all_stats)\n",
    "df.head()"
   ],
   "id": "c86745c54cbabb87"
  },
  {
   "metadata": {},
   "cell_type": "code",
   "outputs": [],
   "execution_count": null,
   "source": [
    "df.info()\n",
    "plt.figure()\n",
    "plt.hist(df[\"avg_gc_content\"], bins=20, color='gray')\n",
    "plt.title(\"GC Content Distribution\")\n",
    "plt.xlabel(\"GC Content\")\n",
    "plt.ylabel(\"Number of Files\")\n",
    "plt.show()"
   ],
   "id": "f30162bd45e414e0"
  },
  {
   "metadata": {},
   "cell_type": "code",
   "outputs": [],
   "execution_count": null,
   "source": [
    "# Define your folder and labels\n",
    "fastq_dir = \"TrainFiles\"\n",
    "labels = ['Nasal', 'Stool', 'Mouth', 'Skin']\n",
    "\n",
    "# List all .fastq files in the folder\n",
    "file_list = [f for f in os.listdir(fastq_dir) if f.endswith(\".fastq\")]\n",
    "\n",
    "# Assign a random label to each file\n",
    "data = {\n",
    "    \"filename\": file_list,\n",
    "    \"label\": [random.choice(labels) for _ in file_list]\n",
    "}\n",
    "\n",
    "# Create the DataFrame\n",
    "df_labels = pd.DataFrame(data)\n",
    "\n",
    "# Optional: sort for cleaner viewing\n",
    "df_labels = df_labels.sort_values(\"filename\").reset_index(drop=True)\n",
    "\n",
    "# Show the result\n",
    "df_labels.head()"
   ],
   "id": "4c35f9610b618cfe"
  },
  {
   "metadata": {},
   "cell_type": "code",
   "outputs": [],
   "execution_count": null,
   "source": [
    "# Visualise count of label\n",
    "# Count the occurrences of each label\n",
    "label_counts = df_labels['label'].value_counts()\n",
    "\n",
    "# Plotting the label counts\n",
    "plt.figure(figsize=(8, 6))\n",
    "label_counts.plot(kind='bar', color='skyblue')\n",
    "plt.title('Distribution of Labels')\n",
    "plt.xlabel('Label')\n",
    "plt.ylabel('Count')\n",
    "plt.xticks(rotation=45, ha='right')\n",
    "plt.tight_layout()"
   ],
   "id": "8c0b5d07ad59d944"
  },
  {
   "metadata": {},
   "cell_type": "code",
   "outputs": [],
   "execution_count": null,
   "source": "sns.heatmap(df.corr(), annot=True)",
   "id": "5c022814ad4d7241"
  },
  {
   "metadata": {},
   "cell_type": "markdown",
   "source": "## Extract features",
   "id": "ee4dd87445a3301a"
  }
 ],
 "metadata": {
  "kernelspec": {
   "display_name": "Python 3",
   "language": "python",
   "name": "python3"
  },
  "language_info": {
   "codemirror_mode": {
    "name": "ipython",
    "version": 2
   },
   "file_extension": ".py",
   "mimetype": "text/x-python",
   "name": "python",
   "nbconvert_exporter": "python",
   "pygments_lexer": "ipython2",
   "version": "2.7.6"
  }
 },
 "nbformat": 4,
 "nbformat_minor": 5
}
