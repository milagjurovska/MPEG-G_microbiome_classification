{
 "cells": [
  {
   "cell_type": "code",
   "id": "initial_id",
   "metadata": {
    "collapsed": true,
    "ExecuteTime": {
     "end_time": "2025-08-03T01:08:52.731426Z",
     "start_time": "2025-08-03T01:08:48.989318Z"
    }
   },
   "source": [
    "import os\n",
    "import zipfile\n",
    "import subprocess\n",
    "import random\n",
    "import pandas as pd\n",
    "import numpy as np\n",
    "import seaborn as sns\n",
    "import matplotlib.pyplot as plt\n",
    "import shutil\n",
    "\n",
    "from Bio import SeqIO\n",
    "from collections import Counter\n",
    "from itertools import product\n",
    "\n",
    "from sklearn.model_selection import train_test_split\n",
    "from sklearn.preprocessing import LabelEncoder\n",
    "from sklearn.metrics import classification_report\n",
    "\n",
    "import torch.nn as nn\n",
    "\n",
    "import warnings\n",
    "warnings.filterwarnings('ignore')"
   ],
   "outputs": [],
   "execution_count": 14
  },
  {
   "metadata": {},
   "cell_type": "markdown",
   "source": "## Explore train, test and subject info",
   "id": "d9a2e4f86a101a8a"
  },
  {
   "metadata": {
    "ExecuteTime": {
     "end_time": "2025-08-02T17:41:00.088419Z",
     "start_time": "2025-08-02T17:41:00.020938Z"
    }
   },
   "cell_type": "code",
   "source": [
    "train_df = pd.read_csv( \"Train.csv\")\n",
    "test_df = pd.read_csv(\"Test.csv\")\n",
    "train_subjects_df = pd.read_csv(\"Train_Subjects.csv\")\n",
    "ss = pd.read_csv(\"SampleSubmission.csv\")"
   ],
   "id": "7003c659761d3441",
   "outputs": [],
   "execution_count": 2
  },
  {
   "metadata": {
    "ExecuteTime": {
     "end_time": "2025-08-02T17:41:00.934213Z",
     "start_time": "2025-08-02T17:41:00.633307Z"
    }
   },
   "cell_type": "code",
   "source": [
    "print(f\"Number of unique subjects in train_df: {train_df['SubjectID'].nunique()}\")\n",
    "print(f\"Number of unique SampleType in train_df: {train_df['SampleType'].nunique()}\")\n",
    "print(f\"Number of unique Files in train_df: {train_df['filename'].nunique()}\")\n",
    "print(f\"Unique values in SampleType: {train_df['SampleType'].unique()}\")\n",
    "files_per_subject = train_df.groupby('SubjectID')['filename'].count().reset_index()\n",
    "files_per_subject = files_per_subject.rename(columns={'filename': 'FileCount'})\n",
    "average_files_per_subject = files_per_subject['FileCount'].mean()\n",
    "print(f\"Average number of files per SubjectID in train_df: {average_files_per_subject:.2f}\")\n",
    "plt.figure(figsize=(10, 6))\n",
    "plt.hist(files_per_subject['FileCount'], bins=20, edgecolor='black')\n",
    "plt.title('Distribution of Files per SubjectID in Train Data')\n",
    "plt.xlabel('Number of Files')\n",
    "plt.ylabel('Number of SubjectIDs')\n",
    "plt.grid(axis='y', alpha=0.75)\n",
    "plt.show()\n",
    "train_df.head()"
   ],
   "id": "99a3c71c3286ba7e",
   "outputs": [
    {
     "name": "stdout",
     "output_type": "stream",
     "text": [
      "Number of unique subjects in train_df: 66\n",
      "Number of unique SampleType in train_df: 4\n",
      "Number of unique Files in train_df: 2901\n",
      "Unique values in SampleType: ['Stool' 'Nasal' 'Mouth' 'Skin']\n",
      "Average number of files per SubjectID in train_df: 43.95\n"
     ]
    },
    {
     "data": {
      "text/plain": [
       "<Figure size 1000x600 with 1 Axes>"
      ],
      "image/png": "[encoded data removed]"
     },
     "metadata": {},
     "output_type": "display_data"
    },
    {
     "data": {
      "text/plain": [
       "        filename SampleType       SubjectID       SampleID\n",
       "0  ID_LETPJN.mgb      Stool  Subject_BCUNIB  Sample_AFTIWE\n",
       "1  ID_NTDGIW.mgb      Stool  Subject_UDAXIH  Sample_JQJVNK\n",
       "2  ID_ZISBMF.mgb      Nasal  Subject_VRKADI  Sample_YJWGWW\n",
       "3  ID_MDCVXU.mgb      Nasal  Subject_HIFZWD  Sample_VKEHZP\n",
       "4  ID_SWAMNY.mgb      Stool  Subject_VGLNCV  Sample_NTDTEQ"
      ],
      "text/html": [
       "<div>\n",
       "<style scoped>\n",
       "    .dataframe tbody tr th:only-of-type {\n",
       "        vertical-align: middle;\n",
       "    }\n",
       "\n",
       "    .dataframe tbody tr th {\n",
       "        vertical-align: top;\n",
       "    }\n",
       "\n",
       "    .dataframe thead th {\n",
       "        text-align: right;\n",
       "    }\n",
       "</style>\n",
       "<table border=\"1\" class=\"dataframe\">\n",
       "  <thead>\n",
       "    <tr style=\"text-align: right;\">\n",
       "      <th></th>\n",
       "      <th>filename</th>\n",
       "      <th>SampleType</th>\n",
       "      <th>SubjectID</th>\n",
       "      <th>SampleID</th>\n",
       "    </tr>\n",
       "  </thead>\n",
       "  <tbody>\n",
       "    <tr>\n",
       "      <th>0</th>\n",
       "      <td>ID_LETPJN.mgb</td>\n",
       "      <td>Stool</td>\n",
       "      <td>Subject_BCUNIB</td>\n",
       "      <td>Sample_AFTIWE</td>\n",
       "    </tr>\n",
       "    <tr>\n",
       "      <th>1</th>\n",
       "      <td>ID_NTDGIW.mgb</td>\n",
       "      <td>Stool</td>\n",
       "      <td>Subject_UDAXIH</td>\n",
       "      <td>Sample_JQJVNK</td>\n",
       "    </tr>\n",
       "    <tr>\n",
       "      <th>2</th>\n",
       "      <td>ID_ZISBMF.mgb</td>\n",
       "      <td>Nasal</td>\n",
       "      <td>Subject_VRKADI</td>\n",
       "      <td>Sample_YJWGWW</td>\n",
       "    </tr>\n",
       "    <tr>\n",
       "      <th>3</th>\n",
       "      <td>ID_MDCVXU.mgb</td>\n",
       "      <td>Nasal</td>\n",
       "      <td>Subject_HIFZWD</td>\n",
       "      <td>Sample_VKEHZP</td>\n",
       "    </tr>\n",
       "    <tr>\n",
       "      <th>4</th>\n",
       "      <td>ID_SWAMNY.mgb</td>\n",
       "      <td>Stool</td>\n",
       "      <td>Subject_VGLNCV</td>\n",
       "      <td>Sample_NTDTEQ</td>\n",
       "    </tr>\n",
       "  </tbody>\n",
       "</table>\n",
       "</div>"
      ]
     },
     "execution_count": 3,
     "metadata": {},
     "output_type": "execute_result"
    }
   ],
   "execution_count": 3
  },
  {
   "metadata": {
    "ExecuteTime": {
     "end_time": "2025-08-02T17:41:06.179579Z",
     "start_time": "2025-08-02T17:41:06.167230Z"
    }
   },
   "cell_type": "code",
   "source": [
    "print(f\"Number of unique Files in test_df: {test_df['filename'].nunique()}\")\n",
    "test_df.head()"
   ],
   "id": "e10c340f69194596",
   "outputs": [
    {
     "name": "stdout",
     "output_type": "stream",
     "text": [
      "Number of unique Files in test_df: 1068\n"
     ]
    },
    {
     "data": {
      "text/plain": [
       "        filename\n",
       "0  ID_YBNOYC.mgb\n",
       "1  ID_HPVLUO.mgb\n",
       "2  ID_DQGGYD.mgb\n",
       "3  ID_XZBUJB.mgb\n",
       "4  ID_KRPYRQ.mgb"
      ],
      "text/html": [
       "<div>\n",
       "<style scoped>\n",
       "    .dataframe tbody tr th:only-of-type {\n",
       "        vertical-align: middle;\n",
       "    }\n",
       "\n",
       "    .dataframe tbody tr th {\n",
       "        vertical-align: top;\n",
       "    }\n",
       "\n",
       "    .dataframe thead th {\n",
       "        text-align: right;\n",
       "    }\n",
       "</style>\n",
       "<table border=\"1\" class=\"dataframe\">\n",
       "  <thead>\n",
       "    <tr style=\"text-align: right;\">\n",
       "      <th></th>\n",
       "      <th>filename</th>\n",
       "    </tr>\n",
       "  </thead>\n",
       "  <tbody>\n",
       "    <tr>\n",
       "      <th>0</th>\n",
       "      <td>ID_YBNOYC.mgb</td>\n",
       "    </tr>\n",
       "    <tr>\n",
       "      <th>1</th>\n",
       "      <td>ID_HPVLUO.mgb</td>\n",
       "    </tr>\n",
       "    <tr>\n",
       "      <th>2</th>\n",
       "      <td>ID_DQGGYD.mgb</td>\n",
       "    </tr>\n",
       "    <tr>\n",
       "      <th>3</th>\n",
       "      <td>ID_XZBUJB.mgb</td>\n",
       "    </tr>\n",
       "    <tr>\n",
       "      <th>4</th>\n",
       "      <td>ID_KRPYRQ.mgb</td>\n",
       "    </tr>\n",
       "  </tbody>\n",
       "</table>\n",
       "</div>"
      ]
     },
     "execution_count": 4,
     "metadata": {},
     "output_type": "execute_result"
    }
   ],
   "execution_count": 4
  },
  {
   "metadata": {},
   "cell_type": "markdown",
   "source": "## Explore fastq files",
   "id": "951367f2d49b678c"
  },
  {
   "metadata": {
    "ExecuteTime": {
     "end_time": "2025-08-02T21:35:26.971289Z",
     "start_time": "2025-08-02T18:50:07.166692Z"
    }
   },
   "cell_type": "code",
   "source": [
    "fastq_dir = \"TrainFiles\"\n",
    "all_stats = []\n",
    "\n",
    "for fname in os.listdir(fastq_dir):\n",
    "    if not fname.endswith(\".fastq\"):\n",
    "        continue\n",
    "\n",
    "    path = os.path.join(fastq_dir, fname)\n",
    "    read_lengths = []\n",
    "    gc_counts = []\n",
    "    nt_counts = Counter()\n",
    "\n",
    "    try:\n",
    "        for record in SeqIO.parse(path, \"fastq\"):\n",
    "            seq = str(record.seq)\n",
    "            read_lengths.append(len(seq))\n",
    "            gc_counts.append(seq.count(\"G\") + seq.count(\"C\"))\n",
    "            nt_counts.update(seq)\n",
    "\n",
    "        if read_lengths:\n",
    "            stats = {\n",
    "                \"file\": fname,\n",
    "                \"num_reads\": len(read_lengths),\n",
    "                \"avg_read_length\": sum(read_lengths) / len(read_lengths),\n",
    "                \"avg_gc_content\": sum(gc_counts) / sum(read_lengths),\n",
    "                \"A\": nt_counts[\"A\"],\n",
    "                \"T\": nt_counts[\"T\"],\n",
    "                \"G\": nt_counts[\"G\"],\n",
    "                \"C\": nt_counts[\"C\"]\n",
    "            }\n",
    "            all_stats.append(stats)\n",
    "\n",
    "    except Exception as e:\n",
    "        print(f\"Error parsing {fname}: {e}\")\n",
    "\n",
    "df = pd.DataFrame(all_stats)\n",
    "print(df.head())"
   ],
   "id": "4b8f47f7be708f16",
   "outputs": [
    {
     "name": "stdout",
     "output_type": "stream",
     "text": [
      "              file  num_reads  avg_read_length  avg_gc_content         A  \\\n",
      "0  ID_AAFNOT.fastq      42840            124.5        0.552629    971747   \n",
      "1  ID_AAXPTO.fastq      42814            400.0        0.539853   4605561   \n",
      "2  ID_AAYKAN.fastq      21794            400.0        0.543314   2308491   \n",
      "3  ID_ABEZNS.fastq     448014            124.5        0.529188  11374718   \n",
      "4  ID_ABFFLP.fastq      15173            400.0        0.558125   1589191   \n",
      "\n",
      "          T         G         C  \n",
      "0   1414344   1432308   1515181  \n",
      "1   3274727   5424731   3820581  \n",
      "2   1672716   2777034   1959359  \n",
      "3  14886123  14257696  15259206  \n",
      "4   1092639   2005367   1382003  \n"
     ]
    }
   ],
   "execution_count": 7
  },
  {
   "metadata": {
    "ExecuteTime": {
     "end_time": "2025-08-03T01:08:10.428712Z",
     "start_time": "2025-08-03T01:08:10.211290Z"
    }
   },
   "cell_type": "code",
   "source": [
    "df.info()\n",
    "plt.figure()\n",
    "plt.hist(df[\"avg_gc_content\"], bins=20, color='gray')\n",
    "plt.title(\"GC Content Distribution\")\n",
    "plt.xlabel(\"GC Content\")\n",
    "plt.ylabel(\"Number of Files\")\n",
    "plt.show()"
   ],
   "id": "f30162bd45e414e0",
   "outputs": [
    {
     "name": "stdout",
     "output_type": "stream",
     "text": [
      "<class 'pandas.core.frame.DataFrame'>\n",
      "RangeIndex: 2901 entries, 0 to 2900\n",
      "Data columns (total 8 columns):\n",
      " #   Column           Non-Null Count  Dtype  \n",
      "---  ------           --------------  -----  \n",
      " 0   file             2901 non-null   object \n",
      " 1   num_reads        2901 non-null   int64  \n",
      " 2   avg_read_length  2901 non-null   float64\n",
      " 3   avg_gc_content   2901 non-null   float64\n",
      " 4   A                2901 non-null   int64  \n",
      " 5   T                2901 non-null   int64  \n",
      " 6   G                2901 non-null   int64  \n",
      " 7   C                2901 non-null   int64  \n",
      "dtypes: float64(2), int64(5), object(1)\n",
      "memory usage: 181.4+ KB\n"
     ]
    },
    {
     "data": {
      "text/plain": [
       "<Figure size 640x480 with 1 Axes>"
      ],
      "image/png": "[encoded data removed]"
     },
     "metadata": {},
     "output_type": "display_data"
    }
   ],
   "execution_count": 8
  },
  {
   "metadata": {
    "ExecuteTime": {
     "end_time": "2025-08-03T01:08:13.893600Z",
     "start_time": "2025-08-03T01:08:13.814187Z"
    }
   },
   "cell_type": "code",
   "source": [
    "fastq_dir = \"TrainFiles\"\n",
    "labels = ['Nasal', 'Stool', 'Mouth', 'Skin']\n",
    "\n",
    "file_list = [f for f in os.listdir(fastq_dir) if f.endswith(\".fastq\")]\n",
    "\n",
    "data = {\n",
    "    \"filename\": file_list,\n",
    "    \"label\": [random.choice(labels) for _ in file_list]\n",
    "}\n",
    "\n",
    "df_labels = pd.DataFrame(data)\n",
    "\n",
    "df_labels = df_labels.sort_values(\"filename\").reset_index(drop=True)\n",
    "\n",
    "df_labels.head()"
   ],
   "id": "4c35f9610b618cfe",
   "outputs": [
    {
     "data": {
      "text/plain": [
       "          filename  label\n",
       "0  ID_AAFNOT.fastq  Mouth\n",
       "1  ID_AAXPTO.fastq   Skin\n",
       "2  ID_AAYKAN.fastq  Mouth\n",
       "3  ID_ABEZNS.fastq  Nasal\n",
       "4  ID_ABFFLP.fastq  Stool"
      ],
      "text/html": [
       "<div>\n",
       "<style scoped>\n",
       "    .dataframe tbody tr th:only-of-type {\n",
       "        vertical-align: middle;\n",
       "    }\n",
       "\n",
       "    .dataframe tbody tr th {\n",
       "        vertical-align: top;\n",
       "    }\n",
       "\n",
       "    .dataframe thead th {\n",
       "        text-align: right;\n",
       "    }\n",
       "</style>\n",
       "<table border=\"1\" class=\"dataframe\">\n",
       "  <thead>\n",
       "    <tr style=\"text-align: right;\">\n",
       "      <th></th>\n",
       "      <th>filename</th>\n",
       "      <th>label</th>\n",
       "    </tr>\n",
       "  </thead>\n",
       "  <tbody>\n",
       "    <tr>\n",
       "      <th>0</th>\n",
       "      <td>ID_AAFNOT.fastq</td>\n",
       "      <td>Mouth</td>\n",
       "    </tr>\n",
       "    <tr>\n",
       "      <th>1</th>\n",
       "      <td>ID_AAXPTO.fastq</td>\n",
       "      <td>Skin</td>\n",
       "    </tr>\n",
       "    <tr>\n",
       "      <th>2</th>\n",
       "      <td>ID_AAYKAN.fastq</td>\n",
       "      <td>Mouth</td>\n",
       "    </tr>\n",
       "    <tr>\n",
       "      <th>3</th>\n",
       "      <td>ID_ABEZNS.fastq</td>\n",
       "      <td>Nasal</td>\n",
       "    </tr>\n",
       "    <tr>\n",
       "      <th>4</th>\n",
       "      <td>ID_ABFFLP.fastq</td>\n",
       "      <td>Stool</td>\n",
       "    </tr>\n",
       "  </tbody>\n",
       "</table>\n",
       "</div>"
      ]
     },
     "execution_count": 9,
     "metadata": {},
     "output_type": "execute_result"
    }
   ],
   "execution_count": 9
  },
  {
   "metadata": {
    "ExecuteTime": {
     "end_time": "2025-08-03T01:08:17.000749Z",
     "start_time": "2025-08-03T01:08:16.738548Z"
    }
   },
   "cell_type": "code",
   "source": [
    "label_counts = df_labels['label'].value_counts()\n",
    "\n",
    "plt.figure(figsize=(8, 6))\n",
    "label_counts.plot(kind='bar', color='skyblue')\n",
    "plt.title('Distribution of Labels')\n",
    "plt.xlabel('Label')\n",
    "plt.ylabel('Count')\n",
    "plt.xticks(rotation=45, ha='right')\n",
    "plt.tight_layout()"
   ],
   "id": "8c0b5d07ad59d944",
   "outputs": [
    {
     "data": {
      "text/plain": [
       "<Figure size 800x600 with 1 Axes>"
      ],
      "image/png": "[encoded data removed]"
     },
     "metadata": {},
     "output_type": "display_data"
    }
   ],
   "execution_count": 10
  },
  {
   "metadata": {},
   "cell_type": "markdown",
   "source": "## Extract features",
   "id": "ee4dd87445a3301a"
  },
  {
   "metadata": {
    "ExecuteTime": {
     "end_time": "2025-08-03T01:13:46.232858Z",
     "start_time": "2025-08-03T01:13:46.224137Z"
    }
   },
   "cell_type": "code",
   "source": [
    "def get_kmers(sequence, k=3):\n",
    "    return [sequence[i:i+k] for i in range(len(sequence) - k + 1)]\n",
    "\n",
    "def extract_features_with_kmers(path, k=3):\n",
    "    read_lengths = []\n",
    "    gc_counts = []\n",
    "    nt_counter = Counter()\n",
    "    kmer_counter = Counter()\n",
    "\n",
    "    for record in SeqIO.parse(path, \"fastq\"):\n",
    "        seq = str(record.seq)\n",
    "        read_lengths.append(len(seq))\n",
    "        gc_counts.append(seq.count(\"G\") + seq.count(\"C\"))\n",
    "        nt_counter.update(seq)\n",
    "        kmer_counter.update(get_kmers(seq, k))\n",
    "\n",
    "    if not read_lengths:\n",
    "        return None\n",
    "\n",
    "    total_len = sum(read_lengths)\n",
    "    total_kmers = sum(kmer_counter.values())\n",
    "\n",
    "    features = {\n",
    "        \"num_reads\": len(read_lengths),\n",
    "        \"avg_read_len\": total_len / len(read_lengths),\n",
    "        \"gc_content\": sum(gc_counts) / total_len,\n",
    "        \"A\": nt_counter[\"A\"] / total_len,\n",
    "        \"T\": nt_counter[\"T\"] / total_len,\n",
    "        \"G\": nt_counter[\"G\"] / total_len,\n",
    "        \"C\": nt_counter[\"C\"] / total_len,\n",
    "    }\n",
    "\n",
    "    for kmer in sorted(kmer_counter):\n",
    "        features[f'kmer_{kmer}'] = kmer_counter[kmer] / total_kmers\n",
    "\n",
    "    return features"
   ],
   "id": "9777e1ac655187c6",
   "outputs": [],
   "execution_count": 17
  },
  {
   "metadata": {
    "ExecuteTime": {
     "end_time": "2025-08-03T07:12:56.355086Z",
     "start_time": "2025-08-03T01:13:48.045318Z"
    }
   },
   "cell_type": "code",
   "source": [
    "train_dir = \"TrainFiles\"\n",
    "train_features = []\n",
    "\n",
    "for _, row in df_labels.iterrows():\n",
    "    fpath = os.path.join(train_dir, row[\"filename\"])\n",
    "    feats = extract_features_with_kmers(fpath, k=3)\n",
    "    if feats:\n",
    "        feats[\"filename\"] = row[\"filename\"]\n",
    "        feats[\"label\"] = row[\"label\"]\n",
    "        train_features.append(feats)\n",
    "\n",
    "df_train = pd.DataFrame(train_features)"
   ],
   "id": "8438d45522891c08",
   "outputs": [],
   "execution_count": 18
  },
  {
   "metadata": {
    "ExecuteTime": {
     "end_time": "2025-08-03T14:34:53.912983Z",
     "start_time": "2025-08-03T14:34:53.692227Z"
    }
   },
   "cell_type": "code",
   "source": [
    "le = LabelEncoder()\n",
    "df_train[\"label_enc\"] = le.fit_transform(df_train[\"label\"])\n",
    "\n",
    "X = df_train.drop(columns=[\"filename\", \"label\", \"label_enc\"])\n",
    "y = df_train[\"label_enc\"]\n",
    "feature_cols = X.columns\n",
    "\n",
    "X.to_csv(\"X_with_kmers.csv\", index=False)\n",
    "y.to_csv(\"y_with_kmers.csv\", index=False)"
   ],
   "id": "e893e18c7d84fd39",
   "outputs": [],
   "execution_count": 27
  },
  {
   "metadata": {},
   "cell_type": "markdown",
   "source": "## Random Forrest Classifier",
   "id": "a16a83b3a4eca66b"
  },
  {
   "metadata": {
    "ExecuteTime": {
     "end_time": "2025-08-03T14:38:38.956640Z",
     "start_time": "2025-08-03T14:38:37.478899Z"
    }
   },
   "cell_type": "code",
   "source": [
    "from sklearn.ensemble import RandomForestClassifier\n",
    "from sklearn.metrics import classification_report\n",
    "\n",
    "X_train, X_val, y_train, y_val = train_test_split(X, y, stratify=y, random_state=42)\n",
    "\n",
    "clf = RandomForestClassifier(n_estimators=50, random_state=42)\n",
    "clf.fit(X_train, y_train)\n",
    "y_pred = clf.predict(X_val)\n",
    "print(classification_report(y_val, y_pred, target_names=le.classes_))"
   ],
   "id": "b213add096f2ff96",
   "outputs": [
    {
     "name": "stdout",
     "output_type": "stream",
     "text": [
      "              precision    recall  f1-score   support\n",
      "\n",
      "       Mouth       0.28      0.29      0.28       179\n",
      "       Nasal       0.27      0.29      0.28       179\n",
      "        Skin       0.26      0.23      0.25       183\n",
      "       Stool       0.25      0.25      0.25       185\n",
      "\n",
      "    accuracy                           0.27       726\n",
      "   macro avg       0.27      0.27      0.27       726\n",
      "weighted avg       0.27      0.27      0.27       726\n",
      "\n"
     ]
    }
   ],
   "execution_count": 30
  },
  {
   "metadata": {},
   "cell_type": "markdown",
   "source": "## XGboost",
   "id": "d85d19a3fa741053"
  },
  {
   "metadata": {
    "ExecuteTime": {
     "end_time": "2025-08-03T14:39:30.404716Z",
     "start_time": "2025-08-03T14:39:30.032216Z"
    }
   },
   "cell_type": "code",
   "source": [
    "import xgboost as xgb\n",
    "\n",
    "clf = xgb.XGBClassifier(tree_method=\"hist\", early_stopping_rounds=2)\n",
    "clf.fit(X_train, y_train, eval_set=[(X_val, y_val)])\n",
    "y_pred = clf.predict(X_val)\n",
    "print(classification_report(y_val, y_pred, target_names=le.classes_))"
   ],
   "id": "a5aeda6abbbb85d0",
   "outputs": [
    {
     "name": "stdout",
     "output_type": "stream",
     "text": [
      "[0]\tvalidation_0-mlogloss:1.39217\n",
      "[1]\tvalidation_0-mlogloss:1.40169\n",
      "[2]\tvalidation_0-mlogloss:1.41027\n",
      "              precision    recall  f1-score   support\n",
      "\n",
      "       Mouth       0.26      0.44      0.33       179\n",
      "       Nasal       0.23      0.08      0.12       179\n",
      "        Skin       0.28      0.18      0.22       183\n",
      "       Stool       0.25      0.34      0.29       185\n",
      "\n",
      "    accuracy                           0.26       726\n",
      "   macro avg       0.26      0.26      0.24       726\n",
      "weighted avg       0.26      0.26      0.24       726\n",
      "\n"
     ]
    }
   ],
   "execution_count": 32
  },
  {
   "metadata": {
    "ExecuteTime": {
     "end_time": "2025-08-03T14:30:05.780120Z",
     "start_time": "2025-08-03T12:58:36.455744Z"
    }
   },
   "cell_type": "code",
   "source": [
    "test_dir = \"TestFiles\"\n",
    "test_files = [f for f in os.listdir(test_dir) if f.endswith(\".fastq\")]\n",
    "\n",
    "test_features = []\n",
    "for fname in test_files:\n",
    "    path = os.path.join(test_dir, fname)\n",
    "    feats = extract_features_with_kmers(path)\n",
    "    if feats:\n",
    "        feats[\"filename\"] = fname\n",
    "        test_features.append(feats)\n",
    "\n",
    "df_test = pd.DataFrame(test_features)"
   ],
   "id": "77cede7cc3cd632d",
   "outputs": [],
   "execution_count": 24
  },
  {
   "metadata": {
    "ExecuteTime": {
     "end_time": "2025-08-03T14:39:37.904964Z",
     "start_time": "2025-08-03T14:39:37.875851Z"
    }
   },
   "cell_type": "code",
   "source": [
    "X_test = df_test[feature_cols]\n",
    "probs = clf.predict_proba(X_test)\n",
    "\n",
    "probs_df = pd.DataFrame(probs, columns=le.inverse_transform(clf.classes_))\n",
    "probs_df.insert(0, \"filename\", df_test[\"filename\"])\n",
    "probs_df.head()"
   ],
   "id": "42fb471ae401c1dd",
   "outputs": [
    {
     "data": {
      "text/plain": [
       "          filename     Mouth     Nasal      Skin     Stool\n",
       "0  ID_ABHFUP.fastq  0.256788  0.229281  0.233228  0.280702\n",
       "1  ID_ADBLNY.fastq  0.258179  0.250903  0.251639  0.239279\n",
       "2  ID_AFAEMB.fastq  0.246719  0.252772  0.245650  0.254860\n",
       "3  ID_AFBBWK.fastq  0.246078  0.246870  0.252854  0.254198\n",
       "4  ID_AGHEZK.fastq  0.246719  0.252772  0.245650  0.254860"
      ],
      "text/html": [
       "<div>\n",
       "<style scoped>\n",
       "    .dataframe tbody tr th:only-of-type {\n",
       "        vertical-align: middle;\n",
       "    }\n",
       "\n",
       "    .dataframe tbody tr th {\n",
       "        vertical-align: top;\n",
       "    }\n",
       "\n",
       "    .dataframe thead th {\n",
       "        text-align: right;\n",
       "    }\n",
       "</style>\n",
       "<table border=\"1\" class=\"dataframe\">\n",
       "  <thead>\n",
       "    <tr style=\"text-align: right;\">\n",
       "      <th></th>\n",
       "      <th>filename</th>\n",
       "      <th>Mouth</th>\n",
       "      <th>Nasal</th>\n",
       "      <th>Skin</th>\n",
       "      <th>Stool</th>\n",
       "    </tr>\n",
       "  </thead>\n",
       "  <tbody>\n",
       "    <tr>\n",
       "      <th>0</th>\n",
       "      <td>ID_ABHFUP.fastq</td>\n",
       "      <td>0.256788</td>\n",
       "      <td>0.229281</td>\n",
       "      <td>0.233228</td>\n",
       "      <td>0.280702</td>\n",
       "    </tr>\n",
       "    <tr>\n",
       "      <th>1</th>\n",
       "      <td>ID_ADBLNY.fastq</td>\n",
       "      <td>0.258179</td>\n",
       "      <td>0.250903</td>\n",
       "      <td>0.251639</td>\n",
       "      <td>0.239279</td>\n",
       "    </tr>\n",
       "    <tr>\n",
       "      <th>2</th>\n",
       "      <td>ID_AFAEMB.fastq</td>\n",
       "      <td>0.246719</td>\n",
       "      <td>0.252772</td>\n",
       "      <td>0.245650</td>\n",
       "      <td>0.254860</td>\n",
       "    </tr>\n",
       "    <tr>\n",
       "      <th>3</th>\n",
       "      <td>ID_AFBBWK.fastq</td>\n",
       "      <td>0.246078</td>\n",
       "      <td>0.246870</td>\n",
       "      <td>0.252854</td>\n",
       "      <td>0.254198</td>\n",
       "    </tr>\n",
       "    <tr>\n",
       "      <th>4</th>\n",
       "      <td>ID_AGHEZK.fastq</td>\n",
       "      <td>0.246719</td>\n",
       "      <td>0.252772</td>\n",
       "      <td>0.245650</td>\n",
       "      <td>0.254860</td>\n",
       "    </tr>\n",
       "  </tbody>\n",
       "</table>\n",
       "</div>"
      ]
     },
     "execution_count": 33,
     "metadata": {},
     "output_type": "execute_result"
    }
   ],
   "execution_count": 33
  },
  {
   "metadata": {
    "ExecuteTime": {
     "end_time": "2025-08-03T14:39:40.313271Z",
     "start_time": "2025-08-03T14:39:40.302271Z"
    }
   },
   "cell_type": "code",
   "source": [
    "required_order = [\"filename\", \"Mouth\", \"Nasal\", \"Skin\", \"Stool\"]\n",
    "for col in required_order[1:]:\n",
    "    if col not in probs_df.columns:\n",
    "        probs_df[col] = 0.0\n",
    "\n",
    "probs_df = probs_df[required_order]\n",
    "probs_df[\"filename\"] = probs_df[\"filename\"].str.replace(\".fastq\", \"\", regex=False)\n",
    "\n",
    "probs_df.head()\n",
    "probs_df.to_csv(\"test_predictions_probs.csv\", index=False)"
   ],
   "id": "f14b3b74eb5bf87b",
   "outputs": [],
   "execution_count": 34
  }
 ],
 "metadata": {
  "kernelspec": {
   "display_name": "Python 3",
   "language": "python",
   "name": "python3"
  },
  "language_info": {
   "codemirror_mode": {
    "name": "ipython",
    "version": 2
   },
   "file_extension": ".py",
   "mimetype": "text/x-python",
   "name": "python",
   "nbconvert_exporter": "python",
   "pygments_lexer": "ipython2",
   "version": "2.7.6"
  }
 },
 "nbformat": 4,
 "nbformat_minor": 5
}
