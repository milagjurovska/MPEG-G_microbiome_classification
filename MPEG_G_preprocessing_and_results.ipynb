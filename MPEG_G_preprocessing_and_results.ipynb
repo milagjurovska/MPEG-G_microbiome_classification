{
 "cells": [
  {
   "cell_type": "code",
   "id": "initial_id",
   "metadata": {
    "collapsed": true,
    "ExecuteTime": {
     "end_time": "2025-08-04T18:09:30.039289Z",
     "start_time": "2025-08-04T18:09:27.445321Z"
    }
   },
   "source": [
    "import os\n",
    "import zipfile\n",
    "import subprocess\n",
    "import random\n",
    "import pandas as pd\n",
    "import numpy as np\n",
    "import seaborn as sns\n",
    "import matplotlib.pyplot as plt\n",
    "import shutil\n",
    "\n",
    "from Bio import SeqIO\n",
    "from collections import Counter\n",
    "from itertools import product\n",
    "\n",
    "from sklearn.model_selection import train_test_split\n",
    "from sklearn.preprocessing import LabelEncoder\n",
    "from sklearn.metrics import classification_report\n",
    "\n",
    "import torch.nn as nn\n",
    "\n",
    "import warnings\n",
    "warnings.filterwarnings('ignore')"
   ],
   "outputs": [],
   "execution_count": 1
  },
  {
   "metadata": {},
   "cell_type": "markdown",
   "source": "## Explore train, test and subject info",
   "id": "d9a2e4f86a101a8a"
  },
  {
   "metadata": {
    "ExecuteTime": {
     "end_time": "2025-08-04T18:09:30.138003Z",
     "start_time": "2025-08-04T18:09:30.117730Z"
    }
   },
   "cell_type": "code",
   "source": [
    "train_df = pd.read_csv( \"Train.csv\")\n",
    "test_df = pd.read_csv(\"Test.csv\")\n",
    "train_subjects_df = pd.read_csv(\"Train_Subjects.csv\")\n",
    "ss = pd.read_csv(\"SampleSubmission.csv\")"
   ],
   "id": "7003c659761d3441",
   "outputs": [],
   "execution_count": 2
  },
  {
   "metadata": {
    "ExecuteTime": {
     "end_time": "2025-08-04T18:09:30.352095Z",
     "start_time": "2025-08-04T18:09:30.166024Z"
    }
   },
   "cell_type": "code",
   "source": [
    "print(f\"Number of unique subjects in train_df: {train_df['SubjectID'].nunique()}\")\n",
    "print(f\"Number of unique SampleType in train_df: {train_df['SampleType'].nunique()}\")\n",
    "print(f\"Number of unique Files in train_df: {train_df['filename'].nunique()}\")\n",
    "print(f\"Unique values in SampleType: {train_df['SampleType'].unique()}\")\n",
    "files_per_subject = train_df.groupby('SubjectID')['filename'].count().reset_index()\n",
    "files_per_subject = files_per_subject.rename(columns={'filename': 'FileCount'})\n",
    "average_files_per_subject = files_per_subject['FileCount'].mean()\n",
    "print(f\"Average number of files per SubjectID in train_df: {average_files_per_subject:.2f}\")\n",
    "plt.figure(figsize=(10, 6))\n",
    "plt.hist(files_per_subject['FileCount'], bins=20, edgecolor='black')\n",
    "plt.title('Distribution of Files per SubjectID in Train Data')\n",
    "plt.xlabel('Number of Files')\n",
    "plt.ylabel('Number of SubjectIDs')\n",
    "plt.grid(axis='y', alpha=0.75)\n",
    "plt.show()\n",
    "train_df.head()"
   ],
   "id": "99a3c71c3286ba7e",
   "outputs": [
    {
     "name": "stdout",
     "output_type": "stream",
     "text": [
      "Number of unique subjects in train_df: 66\n",
      "Number of unique SampleType in train_df: 4\n",
      "Number of unique Files in train_df: 2901\n",
      "Unique values in SampleType: ['Stool' 'Nasal' 'Mouth' 'Skin']\n",
      "Average number of files per SubjectID in train_df: 43.95\n"
     ]
    },
    {
     "data": {
      "text/plain": [
       "<Figure size 1000x600 with 1 Axes>"
      ],
      "image/png": "[encoded data removed]"
     },
     "metadata": {},
     "output_type": "display_data"
    },
    {
     "data": {
      "text/plain": [
       "        filename SampleType       SubjectID       SampleID\n",
       "0  ID_LETPJN.mgb      Stool  Subject_BCUNIB  Sample_AFTIWE\n",
       "1  ID_NTDGIW.mgb      Stool  Subject_UDAXIH  Sample_JQJVNK\n",
       "2  ID_ZISBMF.mgb      Nasal  Subject_VRKADI  Sample_YJWGWW\n",
       "3  ID_MDCVXU.mgb      Nasal  Subject_HIFZWD  Sample_VKEHZP\n",
       "4  ID_SWAMNY.mgb      Stool  Subject_VGLNCV  Sample_NTDTEQ"
      ],
      "text/html": [
       "<div>\n",
       "<style scoped>\n",
       "    .dataframe tbody tr th:only-of-type {\n",
       "        vertical-align: middle;\n",
       "    }\n",
       "\n",
       "    .dataframe tbody tr th {\n",
       "        vertical-align: top;\n",
       "    }\n",
       "\n",
       "    .dataframe thead th {\n",
       "        text-align: right;\n",
       "    }\n",
       "</style>\n",
       "<table border=\"1\" class=\"dataframe\">\n",
       "  <thead>\n",
       "    <tr style=\"text-align: right;\">\n",
       "      <th></th>\n",
       "      <th>filename</th>\n",
       "      <th>SampleType</th>\n",
       "      <th>SubjectID</th>\n",
       "      <th>SampleID</th>\n",
       "    </tr>\n",
       "  </thead>\n",
       "  <tbody>\n",
       "    <tr>\n",
       "      <th>0</th>\n",
       "      <td>ID_LETPJN.mgb</td>\n",
       "      <td>Stool</td>\n",
       "      <td>Subject_BCUNIB</td>\n",
       "      <td>Sample_AFTIWE</td>\n",
       "    </tr>\n",
       "    <tr>\n",
       "      <th>1</th>\n",
       "      <td>ID_NTDGIW.mgb</td>\n",
       "      <td>Stool</td>\n",
       "      <td>Subject_UDAXIH</td>\n",
       "      <td>Sample_JQJVNK</td>\n",
       "    </tr>\n",
       "    <tr>\n",
       "      <th>2</th>\n",
       "      <td>ID_ZISBMF.mgb</td>\n",
       "      <td>Nasal</td>\n",
       "      <td>Subject_VRKADI</td>\n",
       "      <td>Sample_YJWGWW</td>\n",
       "    </tr>\n",
       "    <tr>\n",
       "      <th>3</th>\n",
       "      <td>ID_MDCVXU.mgb</td>\n",
       "      <td>Nasal</td>\n",
       "      <td>Subject_HIFZWD</td>\n",
       "      <td>Sample_VKEHZP</td>\n",
       "    </tr>\n",
       "    <tr>\n",
       "      <th>4</th>\n",
       "      <td>ID_SWAMNY.mgb</td>\n",
       "      <td>Stool</td>\n",
       "      <td>Subject_VGLNCV</td>\n",
       "      <td>Sample_NTDTEQ</td>\n",
       "    </tr>\n",
       "  </tbody>\n",
       "</table>\n",
       "</div>"
      ]
     },
     "execution_count": 3,
     "metadata": {},
     "output_type": "execute_result"
    }
   ],
   "execution_count": 3
  },
  {
   "metadata": {
    "ExecuteTime": {
     "end_time": "2025-08-04T18:09:30.413439Z",
     "start_time": "2025-08-04T18:09:30.402459Z"
    }
   },
   "cell_type": "code",
   "source": [
    "vc = train_df[\"SubjectID\"].value_counts().reset_index()\n",
    "vc.columns = [\"SubjectID\", \"Count\"]\n",
    "vc.head(20)"
   ],
   "id": "c8ff3ee4115b1551",
   "outputs": [
    {
     "data": {
      "text/plain": [
       "         SubjectID  Count\n",
       "0   Subject_UDAXIH    441\n",
       "1   Subject_HBHSCC    159\n",
       "2   Subject_CHDMIO    138\n",
       "3   Subject_ASRHSH    111\n",
       "4   Subject_VGLNCV    105\n",
       "5   Subject_PZNGDD    100\n",
       "6   Subject_FSIBDT     93\n",
       "7   Subject_MMTOQI     85\n",
       "8   Subject_HIFZWD     80\n",
       "9   Subject_FNAFXK     80\n",
       "10  Subject_VRKADI     74\n",
       "11  Subject_FXORWN     71\n",
       "12  Subject_EIEHXR     71\n",
       "13  Subject_STBTCN     68\n",
       "14  Subject_RJVDEI     67\n",
       "15  Subject_FOMIUW     62\n",
       "16  Subject_ULFLLG     57\n",
       "17  Subject_MBPHGO     49\n",
       "18  Subject_MLHEQP     41\n",
       "19  Subject_IBWNAQ     40"
      ],
      "text/html": [
       "<div>\n",
       "<style scoped>\n",
       "    .dataframe tbody tr th:only-of-type {\n",
       "        vertical-align: middle;\n",
       "    }\n",
       "\n",
       "    .dataframe tbody tr th {\n",
       "        vertical-align: top;\n",
       "    }\n",
       "\n",
       "    .dataframe thead th {\n",
       "        text-align: right;\n",
       "    }\n",
       "</style>\n",
       "<table border=\"1\" class=\"dataframe\">\n",
       "  <thead>\n",
       "    <tr style=\"text-align: right;\">\n",
       "      <th></th>\n",
       "      <th>SubjectID</th>\n",
       "      <th>Count</th>\n",
       "    </tr>\n",
       "  </thead>\n",
       "  <tbody>\n",
       "    <tr>\n",
       "      <th>0</th>\n",
       "      <td>Subject_UDAXIH</td>\n",
       "      <td>441</td>\n",
       "    </tr>\n",
       "    <tr>\n",
       "      <th>1</th>\n",
       "      <td>Subject_HBHSCC</td>\n",
       "      <td>159</td>\n",
       "    </tr>\n",
       "    <tr>\n",
       "      <th>2</th>\n",
       "      <td>Subject_CHDMIO</td>\n",
       "      <td>138</td>\n",
       "    </tr>\n",
       "    <tr>\n",
       "      <th>3</th>\n",
       "      <td>Subject_ASRHSH</td>\n",
       "      <td>111</td>\n",
       "    </tr>\n",
       "    <tr>\n",
       "      <th>4</th>\n",
       "      <td>Subject_VGLNCV</td>\n",
       "      <td>105</td>\n",
       "    </tr>\n",
       "    <tr>\n",
       "      <th>5</th>\n",
       "      <td>Subject_PZNGDD</td>\n",
       "      <td>100</td>\n",
       "    </tr>\n",
       "    <tr>\n",
       "      <th>6</th>\n",
       "      <td>Subject_FSIBDT</td>\n",
       "      <td>93</td>\n",
       "    </tr>\n",
       "    <tr>\n",
       "      <th>7</th>\n",
       "      <td>Subject_MMTOQI</td>\n",
       "      <td>85</td>\n",
       "    </tr>\n",
       "    <tr>\n",
       "      <th>8</th>\n",
       "      <td>Subject_HIFZWD</td>\n",
       "      <td>80</td>\n",
       "    </tr>\n",
       "    <tr>\n",
       "      <th>9</th>\n",
       "      <td>Subject_FNAFXK</td>\n",
       "      <td>80</td>\n",
       "    </tr>\n",
       "    <tr>\n",
       "      <th>10</th>\n",
       "      <td>Subject_VRKADI</td>\n",
       "      <td>74</td>\n",
       "    </tr>\n",
       "    <tr>\n",
       "      <th>11</th>\n",
       "      <td>Subject_FXORWN</td>\n",
       "      <td>71</td>\n",
       "    </tr>\n",
       "    <tr>\n",
       "      <th>12</th>\n",
       "      <td>Subject_EIEHXR</td>\n",
       "      <td>71</td>\n",
       "    </tr>\n",
       "    <tr>\n",
       "      <th>13</th>\n",
       "      <td>Subject_STBTCN</td>\n",
       "      <td>68</td>\n",
       "    </tr>\n",
       "    <tr>\n",
       "      <th>14</th>\n",
       "      <td>Subject_RJVDEI</td>\n",
       "      <td>67</td>\n",
       "    </tr>\n",
       "    <tr>\n",
       "      <th>15</th>\n",
       "      <td>Subject_FOMIUW</td>\n",
       "      <td>62</td>\n",
       "    </tr>\n",
       "    <tr>\n",
       "      <th>16</th>\n",
       "      <td>Subject_ULFLLG</td>\n",
       "      <td>57</td>\n",
       "    </tr>\n",
       "    <tr>\n",
       "      <th>17</th>\n",
       "      <td>Subject_MBPHGO</td>\n",
       "      <td>49</td>\n",
       "    </tr>\n",
       "    <tr>\n",
       "      <th>18</th>\n",
       "      <td>Subject_MLHEQP</td>\n",
       "      <td>41</td>\n",
       "    </tr>\n",
       "    <tr>\n",
       "      <th>19</th>\n",
       "      <td>Subject_IBWNAQ</td>\n",
       "      <td>40</td>\n",
       "    </tr>\n",
       "  </tbody>\n",
       "</table>\n",
       "</div>"
      ]
     },
     "execution_count": 4,
     "metadata": {},
     "output_type": "execute_result"
    }
   ],
   "execution_count": 4
  },
  {
   "metadata": {
    "ExecuteTime": {
     "end_time": "2025-08-04T18:09:30.481584Z",
     "start_time": "2025-08-04T18:09:30.474313Z"
    }
   },
   "cell_type": "code",
   "source": [
    "print(f\"Number of unique Files in test_df: {test_df['filename'].nunique()}\")\n",
    "test_df.head()"
   ],
   "id": "e10c340f69194596",
   "outputs": [
    {
     "name": "stdout",
     "output_type": "stream",
     "text": [
      "Number of unique Files in test_df: 1068\n"
     ]
    },
    {
     "data": {
      "text/plain": [
       "        filename\n",
       "0  ID_YBNOYC.mgb\n",
       "1  ID_HPVLUO.mgb\n",
       "2  ID_DQGGYD.mgb\n",
       "3  ID_XZBUJB.mgb\n",
       "4  ID_KRPYRQ.mgb"
      ],
      "text/html": [
       "<div>\n",
       "<style scoped>\n",
       "    .dataframe tbody tr th:only-of-type {\n",
       "        vertical-align: middle;\n",
       "    }\n",
       "\n",
       "    .dataframe tbody tr th {\n",
       "        vertical-align: top;\n",
       "    }\n",
       "\n",
       "    .dataframe thead th {\n",
       "        text-align: right;\n",
       "    }\n",
       "</style>\n",
       "<table border=\"1\" class=\"dataframe\">\n",
       "  <thead>\n",
       "    <tr style=\"text-align: right;\">\n",
       "      <th></th>\n",
       "      <th>filename</th>\n",
       "    </tr>\n",
       "  </thead>\n",
       "  <tbody>\n",
       "    <tr>\n",
       "      <th>0</th>\n",
       "      <td>ID_YBNOYC.mgb</td>\n",
       "    </tr>\n",
       "    <tr>\n",
       "      <th>1</th>\n",
       "      <td>ID_HPVLUO.mgb</td>\n",
       "    </tr>\n",
       "    <tr>\n",
       "      <th>2</th>\n",
       "      <td>ID_DQGGYD.mgb</td>\n",
       "    </tr>\n",
       "    <tr>\n",
       "      <th>3</th>\n",
       "      <td>ID_XZBUJB.mgb</td>\n",
       "    </tr>\n",
       "    <tr>\n",
       "      <th>4</th>\n",
       "      <td>ID_KRPYRQ.mgb</td>\n",
       "    </tr>\n",
       "  </tbody>\n",
       "</table>\n",
       "</div>"
      ]
     },
     "execution_count": 5,
     "metadata": {},
     "output_type": "execute_result"
    }
   ],
   "execution_count": 5
  },
  {
   "metadata": {},
   "cell_type": "markdown",
   "source": "## Explore fastq files",
   "id": "951367f2d49b678c"
  },
  {
   "metadata": {
    "ExecuteTime": {
     "end_time": "2025-08-04T20:19:44.635291Z",
     "start_time": "2025-08-04T18:09:30.578318Z"
    }
   },
   "cell_type": "code",
   "source": [
    "fastq_dir = \"TrainFiles\"\n",
    "all_stats = []\n",
    "\n",
    "for fname in os.listdir(fastq_dir):\n",
    "    if not fname.endswith(\".fastq\"):\n",
    "        continue\n",
    "\n",
    "    path = os.path.join(fastq_dir, fname)\n",
    "    read_lengths = []\n",
    "    gc_counts = []\n",
    "    nt_counts = Counter()\n",
    "\n",
    "    try:\n",
    "        for record in SeqIO.parse(path, \"fastq\"):\n",
    "            seq = str(record.seq)\n",
    "            read_lengths.append(len(seq))\n",
    "            gc_counts.append(seq.count(\"G\") + seq.count(\"C\"))\n",
    "            nt_counts.update(seq)\n",
    "\n",
    "        if read_lengths:\n",
    "            stats = {\n",
    "                \"file\": fname,\n",
    "                \"num_reads\": len(read_lengths),\n",
    "                \"avg_read_length\": sum(read_lengths) / len(read_lengths),\n",
    "                \"avg_gc_content\": sum(gc_counts) / sum(read_lengths),\n",
    "                \"A\": nt_counts[\"A\"],\n",
    "                \"T\": nt_counts[\"T\"],\n",
    "                \"G\": nt_counts[\"G\"],\n",
    "                \"C\": nt_counts[\"C\"]\n",
    "            }\n",
    "            all_stats.append(stats)\n",
    "\n",
    "    except Exception as e:\n",
    "        print(f\"Error parsing {fname}: {e}\")\n",
    "\n",
    "df = pd.DataFrame(all_stats)\n",
    "print(df.head())"
   ],
   "id": "4b8f47f7be708f16",
   "outputs": [
    {
     "name": "stdout",
     "output_type": "stream",
     "text": [
      "              file  num_reads  avg_read_length  avg_gc_content         A  \\\n",
      "0  ID_AAFNOT.fastq      42840            124.5        0.552629    971747   \n",
      "1  ID_AAXPTO.fastq      42814            400.0        0.539853   4605561   \n",
      "2  ID_AAYKAN.fastq      21794            400.0        0.543314   2308491   \n",
      "3  ID_ABEZNS.fastq     448014            124.5        0.529188  11374718   \n",
      "4  ID_ABFFLP.fastq      15173            400.0        0.558125   1589191   \n",
      "\n",
      "          T         G         C  \n",
      "0   1414344   1432308   1515181  \n",
      "1   3274727   5424731   3820581  \n",
      "2   1672716   2777034   1959359  \n",
      "3  14886123  14257696  15259206  \n",
      "4   1092639   2005367   1382003  \n"
     ]
    }
   ],
   "execution_count": 6
  },
  {
   "metadata": {
    "ExecuteTime": {
     "end_time": "2025-08-04T20:19:44.909159Z",
     "start_time": "2025-08-04T20:19:44.723350Z"
    }
   },
   "cell_type": "code",
   "source": [
    "df.info()\n",
    "plt.figure()\n",
    "plt.hist(df[\"avg_gc_content\"], bins=20, color='gray')\n",
    "plt.title(\"GC Content Distribution\")\n",
    "plt.xlabel(\"GC Content\")\n",
    "plt.ylabel(\"Number of Files\")\n",
    "plt.show()"
   ],
   "id": "f30162bd45e414e0",
   "outputs": [
    {
     "name": "stdout",
     "output_type": "stream",
     "text": [
      "<class 'pandas.core.frame.DataFrame'>\n",
      "RangeIndex: 2901 entries, 0 to 2900\n",
      "Data columns (total 8 columns):\n",
      " #   Column           Non-Null Count  Dtype  \n",
      "---  ------           --------------  -----  \n",
      " 0   file             2901 non-null   object \n",
      " 1   num_reads        2901 non-null   int64  \n",
      " 2   avg_read_length  2901 non-null   float64\n",
      " 3   avg_gc_content   2901 non-null   float64\n",
      " 4   A                2901 non-null   int64  \n",
      " 5   T                2901 non-null   int64  \n",
      " 6   G                2901 non-null   int64  \n",
      " 7   C                2901 non-null   int64  \n",
      "dtypes: float64(2), int64(5), object(1)\n",
      "memory usage: 181.4+ KB\n"
     ]
    },
    {
     "data": {
      "text/plain": [
       "<Figure size 640x480 with 1 Axes>"
      ],
      "image/png": "[encoded data removed]"
     },
     "metadata": {},
     "output_type": "display_data"
    }
   ],
   "execution_count": 7
  },
  {
   "metadata": {
    "ExecuteTime": {
     "end_time": "2025-08-04T20:19:44.951268Z",
     "start_time": "2025-08-04T20:19:44.934118Z"
    }
   },
   "cell_type": "code",
   "source": [
    "fastq_dir = \"TrainFiles\"\n",
    "labels = ['Nasal', 'Stool', 'Mouth', 'Skin']\n",
    "\n",
    "file_list = [f for f in os.listdir(fastq_dir) if f.endswith(\".fastq\")]\n",
    "\n",
    "data = {\n",
    "    \"filename\": file_list,\n",
    "    \"label\": [random.choice(labels) for _ in file_list]\n",
    "}\n",
    "\n",
    "df_labels = pd.DataFrame(data)\n",
    "\n",
    "df_labels = df_labels.sort_values(\"filename\").reset_index(drop=True)\n",
    "\n",
    "df_labels.head()"
   ],
   "id": "4c35f9610b618cfe",
   "outputs": [
    {
     "data": {
      "text/plain": [
       "          filename  label\n",
       "0  ID_AAFNOT.fastq  Mouth\n",
       "1  ID_AAXPTO.fastq  Stool\n",
       "2  ID_AAYKAN.fastq  Stool\n",
       "3  ID_ABEZNS.fastq  Nasal\n",
       "4  ID_ABFFLP.fastq  Stool"
      ],
      "text/html": [
       "<div>\n",
       "<style scoped>\n",
       "    .dataframe tbody tr th:only-of-type {\n",
       "        vertical-align: middle;\n",
       "    }\n",
       "\n",
       "    .dataframe tbody tr th {\n",
       "        vertical-align: top;\n",
       "    }\n",
       "\n",
       "    .dataframe thead th {\n",
       "        text-align: right;\n",
       "    }\n",
       "</style>\n",
       "<table border=\"1\" class=\"dataframe\">\n",
       "  <thead>\n",
       "    <tr style=\"text-align: right;\">\n",
       "      <th></th>\n",
       "      <th>filename</th>\n",
       "      <th>label</th>\n",
       "    </tr>\n",
       "  </thead>\n",
       "  <tbody>\n",
       "    <tr>\n",
       "      <th>0</th>\n",
       "      <td>ID_AAFNOT.fastq</td>\n",
       "      <td>Mouth</td>\n",
       "    </tr>\n",
       "    <tr>\n",
       "      <th>1</th>\n",
       "      <td>ID_AAXPTO.fastq</td>\n",
       "      <td>Stool</td>\n",
       "    </tr>\n",
       "    <tr>\n",
       "      <th>2</th>\n",
       "      <td>ID_AAYKAN.fastq</td>\n",
       "      <td>Stool</td>\n",
       "    </tr>\n",
       "    <tr>\n",
       "      <th>3</th>\n",
       "      <td>ID_ABEZNS.fastq</td>\n",
       "      <td>Nasal</td>\n",
       "    </tr>\n",
       "    <tr>\n",
       "      <th>4</th>\n",
       "      <td>ID_ABFFLP.fastq</td>\n",
       "      <td>Stool</td>\n",
       "    </tr>\n",
       "  </tbody>\n",
       "</table>\n",
       "</div>"
      ]
     },
     "execution_count": 8,
     "metadata": {},
     "output_type": "execute_result"
    }
   ],
   "execution_count": 8
  },
  {
   "metadata": {
    "ExecuteTime": {
     "end_time": "2025-08-04T20:19:45.191541Z",
     "start_time": "2025-08-04T20:19:45.009243Z"
    }
   },
   "cell_type": "code",
   "source": [
    "label_counts = df_labels['label'].value_counts()\n",
    "\n",
    "plt.figure(figsize=(8, 6))\n",
    "label_counts.plot(kind='bar', color='skyblue')\n",
    "plt.title('Distribution of Labels')\n",
    "plt.xlabel('Label')\n",
    "plt.ylabel('Count')\n",
    "plt.xticks(rotation=45, ha='right')\n",
    "plt.tight_layout()"
   ],
   "id": "8c0b5d07ad59d944",
   "outputs": [
    {
     "data": {
      "text/plain": [
       "<Figure size 800x600 with 1 Axes>"
      ],
      "image/png": "[encoded data removed]"
     },
     "metadata": {},
     "output_type": "display_data"
    }
   ],
   "execution_count": 9
  },
  {
   "metadata": {},
   "cell_type": "markdown",
   "source": "## Extract features",
   "id": "ee4dd87445a3301a"
  },
  {
   "metadata": {
    "ExecuteTime": {
     "end_time": "2025-08-04T20:19:45.207897Z",
     "start_time": "2025-08-04T20:19:45.199976Z"
    }
   },
   "cell_type": "code",
   "source": [
    "def get_kmers(sequence, k=3):\n",
    "    return [sequence[i:i+k] for i in range(len(sequence) - k + 1)]\n",
    "\n",
    "def extract_features_with_kmers(path, k=3):\n",
    "    read_lengths = []\n",
    "    gc_counts = []\n",
    "    nt_counter = Counter()\n",
    "    kmer_counter = Counter()\n",
    "\n",
    "    for record in SeqIO.parse(path, \"fastq\"):\n",
    "        seq = str(record.seq)\n",
    "        read_lengths.append(len(seq))\n",
    "        gc_counts.append(seq.count(\"G\") + seq.count(\"C\"))\n",
    "        nt_counter.update(seq)\n",
    "        kmer_counter.update(get_kmers(seq, k))\n",
    "\n",
    "    if not read_lengths:\n",
    "        return None\n",
    "\n",
    "    total_len = sum(read_lengths)\n",
    "    total_kmers = sum(kmer_counter.values())\n",
    "\n",
    "    features = {\n",
    "        \"num_reads\": len(read_lengths),\n",
    "        \"avg_read_len\": total_len / len(read_lengths),\n",
    "        \"gc_content\": sum(gc_counts) / total_len,\n",
    "        \"A\": nt_counter[\"A\"] / total_len,\n",
    "        \"T\": nt_counter[\"T\"] / total_len,\n",
    "        \"G\": nt_counter[\"G\"] / total_len,\n",
    "        \"C\": nt_counter[\"C\"] / total_len,\n",
    "    }\n",
    "\n",
    "    for kmer in sorted(kmer_counter):\n",
    "        features[f'kmer_{kmer}'] = kmer_counter[kmer] / total_kmers\n",
    "\n",
    "    return features"
   ],
   "id": "9777e1ac655187c6",
   "outputs": [],
   "execution_count": 10
  },
  {
   "metadata": {
    "ExecuteTime": {
     "end_time": "2025-08-05T02:08:30.401816Z",
     "start_time": "2025-08-04T20:19:45.235956Z"
    }
   },
   "cell_type": "code",
   "source": [
    "train_dir = \"TrainFiles\"\n",
    "train_features = []\n",
    "\n",
    "for _, row in df_labels.iterrows():\n",
    "    fpath = os.path.join(train_dir, row[\"filename\"])\n",
    "    feats = extract_features_with_kmers(fpath, k=3)\n",
    "    if feats:\n",
    "        feats[\"filename\"] = row[\"filename\"]\n",
    "        feats[\"label\"] = row[\"label\"]\n",
    "        train_features.append(feats)\n",
    "\n",
    "df_train = pd.DataFrame(train_features)"
   ],
   "id": "8438d45522891c08",
   "outputs": [],
   "execution_count": 11
  },
  {
   "metadata": {
    "ExecuteTime": {
     "end_time": "2025-08-05T02:08:32.237536Z",
     "start_time": "2025-08-05T02:08:30.512038Z"
    }
   },
   "cell_type": "code",
   "source": [
    "from sklearn.feature_selection import mutual_info_classif\n",
    "from sklearn.preprocessing import StandardScaler\n",
    "from sklearn.preprocessing import LabelEncoder\n",
    "from sklearn.feature_selection import SelectKBest, mutual_info_classif\n",
    "\n",
    "le = LabelEncoder()\n",
    "df_train[\"label_enc\"] = le.fit_transform(df_train[\"label\"])\n",
    "\n",
    "X = df_train.drop(columns=[\"filename\", \"label\", \"label_enc\"])\n",
    "y = df_train[\"label_enc\"]\n",
    "\n",
    "scaler = StandardScaler()\n",
    "X_scaled = scaler.fit_transform(X)\n",
    "\n",
    "selector = SelectKBest(mutual_info_classif, k=11)\n",
    "X_new = selector.fit_transform(X_scaled, y)\n",
    "selected_features = X.columns[selector.get_support()]\n",
    "print(\"Selected features:\", selected_features)\n",
    "\n",
    "mi_scores = mutual_info_classif(X_scaled, y, discrete_features=False)\n",
    "mi_series = pd.Series(mi_scores, index=X.columns)\n",
    "\n",
    "N = 10\n",
    "top_features = mi_series.sort_values(ascending=False).head(N)\n",
    "\n",
    "print(\"Top features by mutual information:\")\n",
    "print(top_features)\n",
    "\n",
    "X_scaled_df = pd.DataFrame(X_scaled, columns=X.columns)\n",
    "\n",
    "X_top = X_scaled_df[top_features.index.tolist()]"
   ],
   "id": "e893e18c7d84fd39",
   "outputs": [
    {
     "name": "stdout",
     "output_type": "stream",
     "text": [
      "Selected features: Index(['kmer_AGT', 'kmer_ATC', 'kmer_ATG', 'kmer_CAA', 'kmer_CCT', 'kmer_CGC',\n",
      "       'kmer_GCC', 'kmer_GGA', 'kmer_GGG', 'kmer_TAT', 'kmer_TCT'],\n",
      "      dtype='object')\n",
      "Top features by mutual information:\n",
      "kmer_CGC    0.036032\n",
      "kmer_CAA    0.022777\n",
      "kmer_CCT    0.020106\n",
      "kmer_GGG    0.018003\n",
      "kmer_GGA    0.017898\n",
      "kmer_ATC    0.017350\n",
      "kmer_AGT    0.015701\n",
      "kmer_TAT    0.015665\n",
      "kmer_GCC    0.013416\n",
      "kmer_ATG    0.012996\n",
      "dtype: float64\n"
     ]
    }
   ],
   "execution_count": 12
  },
  {
   "metadata": {},
   "cell_type": "markdown",
   "source": "## Random Forrest Classifier",
   "id": "a16a83b3a4eca66b"
  },
  {
   "metadata": {
    "ExecuteTime": {
     "end_time": "2025-08-05T11:50:50.298286Z",
     "start_time": "2025-08-05T11:50:45.088133Z"
    }
   },
   "cell_type": "code",
   "source": [
    "from sklearn.ensemble import RandomForestClassifier\n",
    "from sklearn.metrics import classification_report\n",
    "\n",
    "X_train, X_val, y_train, y_val = train_test_split(X_top, y, stratify=y, random_state=42)\n",
    "\n",
    "clf = RandomForestClassifier(n_estimators=500, random_state=42)\n",
    "clf.fit(X_train, y_train)\n",
    "y_pred = clf.predict(X_val)\n",
    "print(classification_report(y_val, y_pred, target_names=le.classes_))\n",
    "print(clf.feature_importances_)"
   ],
   "id": "80a1c7b9bf5eea42",
   "outputs": [
    {
     "name": "stdout",
     "output_type": "stream",
     "text": [
      "              precision    recall  f1-score   support\n",
      "\n",
      "       Mouth       0.28      0.31      0.29       186\n",
      "       Nasal       0.23      0.22      0.23       181\n",
      "        Skin       0.25      0.27      0.26       190\n",
      "       Stool       0.17      0.14      0.15       169\n",
      "\n",
      "    accuracy                           0.24       726\n",
      "   macro avg       0.23      0.23      0.23       726\n",
      "weighted avg       0.23      0.24      0.23       726\n",
      "\n",
      "[0.09970008 0.09901242 0.10053666 0.09706894 0.10000271 0.10287607\n",
      " 0.10128001 0.09855887 0.10144218 0.09952204]\n"
     ]
    }
   ],
   "execution_count": 19
  },
  {
   "metadata": {},
   "cell_type": "markdown",
   "source": "## XGboost",
   "id": "d85d19a3fa741053"
  },
  {
   "metadata": {
    "ExecuteTime": {
     "end_time": "2025-08-05T11:51:00.989281Z",
     "start_time": "2025-08-05T11:51:00.921861Z"
    }
   },
   "cell_type": "code",
   "source": [
    "import xgboost as xgb\n",
    "\n",
    "clf = xgb.XGBClassifier(tree_method=\"hist\", early_stopping_rounds=2)\n",
    "clf.fit(X_train, y_train, eval_set=[(X_val, y_val)])\n",
    "y_pred = clf.predict(X_val)\n",
    "print(classification_report(y_val, y_pred, target_names=le.classes_))"
   ],
   "id": "a5aeda6abbbb85d0",
   "outputs": [
    {
     "name": "stdout",
     "output_type": "stream",
     "text": [
      "[0]\tvalidation_0-mlogloss:1.39029\n",
      "[1]\tvalidation_0-mlogloss:1.39736\n",
      "[2]\tvalidation_0-mlogloss:1.40297\n",
      "              precision    recall  f1-score   support\n",
      "\n",
      "       Mouth       0.24      0.24      0.24       186\n",
      "       Nasal       0.29      0.34      0.31       181\n",
      "        Skin       0.31      0.42      0.35       190\n",
      "       Stool       0.18      0.07      0.10       169\n",
      "\n",
      "    accuracy                           0.27       726\n",
      "   macro avg       0.25      0.27      0.25       726\n",
      "weighted avg       0.26      0.27      0.26       726\n",
      "\n"
     ]
    }
   ],
   "execution_count": 20
  },
  {
   "metadata": {},
   "cell_type": "markdown",
   "source": "## MLP Classifier",
   "id": "75d6f66440f52f51"
  },
  {
   "metadata": {
    "ExecuteTime": {
     "end_time": "2025-08-05T02:08:54.592939Z",
     "start_time": "2025-08-05T02:08:41.183525Z"
    }
   },
   "cell_type": "code",
   "source": [
    "from tensorflow.keras.models import Sequential\n",
    "from tensorflow.keras.layers import Dense, Dropout, BatchNormalization\n",
    "from tensorflow.keras.optimizers import Adam\n",
    "from tensorflow.keras.callbacks import EarlyStopping\n",
    "\n",
    "input_dim = X_train.shape[1]\n",
    "\n",
    "model = Sequential([\n",
    "    Dense(512, input_dim=input_dim, activation='relu'),\n",
    "    BatchNormalization(),\n",
    "    Dropout(0.5),\n",
    "\n",
    "    Dense(256, activation='relu'),\n",
    "    BatchNormalization(),\n",
    "    Dropout(0.5),\n",
    "\n",
    "    Dense(128, activation='relu'),\n",
    "    Dropout(0.3),\n",
    "\n",
    "    Dense(4, activation='softmax')  # 4 classes\n",
    "])\n",
    "\n",
    "model.compile(\n",
    "    loss='sparse_categorical_crossentropy',\n",
    "    optimizer=Adam(learning_rate=1e-3),\n",
    "    metrics=['accuracy']\n",
    ")\n",
    "\n",
    "early_stop = EarlyStopping(monitor='val_loss', patience=5, restore_best_weights=True)\n",
    "\n",
    "model.fit(\n",
    "    X_train, y_train,\n",
    "    validation_split=0.2,\n",
    "    epochs=100,\n",
    "    batch_size=32,\n",
    "    callbacks=[early_stop]\n",
    ")"
   ],
   "id": "7853f23950a47148",
   "outputs": [
    {
     "name": "stdout",
     "output_type": "stream",
     "text": [
      "Epoch 1/100\n",
      "\u001B[1m58/58\u001B[0m \u001B[32m━━━━━━━━━━━━━━━━━━━━\u001B[0m\u001B[37m\u001B[0m \u001B[1m3s\u001B[0m 9ms/step - accuracy: 0.2772 - loss: 2.0270 - val_accuracy: 0.2624 - val_loss: 1.4164\n",
      "Epoch 2/100\n",
      "\u001B[1m58/58\u001B[0m \u001B[32m━━━━━━━━━━━━━━━━━━━━\u001B[0m\u001B[37m\u001B[0m \u001B[1m0s\u001B[0m 5ms/step - accuracy: 0.2672 - loss: 1.8738 - val_accuracy: 0.2430 - val_loss: 1.4496\n",
      "Epoch 3/100\n",
      "\u001B[1m58/58\u001B[0m \u001B[32m━━━━━━━━━━━━━━━━━━━━\u001B[0m\u001B[37m\u001B[0m \u001B[1m0s\u001B[0m 4ms/step - accuracy: 0.2854 - loss: 1.6674 - val_accuracy: 0.2387 - val_loss: 1.4753\n",
      "Epoch 4/100\n",
      "\u001B[1m58/58\u001B[0m \u001B[32m━━━━━━━━━━━━━━━━━━━━\u001B[0m\u001B[37m\u001B[0m \u001B[1m0s\u001B[0m 5ms/step - accuracy: 0.2304 - loss: 1.7137 - val_accuracy: 0.2301 - val_loss: 1.4293\n",
      "Epoch 5/100\n",
      "\u001B[1m58/58\u001B[0m \u001B[32m━━━━━━━━━━━━━━━━━━━━\u001B[0m\u001B[37m\u001B[0m \u001B[1m0s\u001B[0m 5ms/step - accuracy: 0.2503 - loss: 1.6374 - val_accuracy: 0.2344 - val_loss: 1.4667\n",
      "Epoch 6/100\n",
      "\u001B[1m58/58\u001B[0m \u001B[32m━━━━━━━━━━━━━━━━━━━━\u001B[0m\u001B[37m\u001B[0m \u001B[1m0s\u001B[0m 5ms/step - accuracy: 0.2456 - loss: 1.5682 - val_accuracy: 0.2366 - val_loss: 1.4604\n"
     ]
    },
    {
     "data": {
      "text/plain": [
       "<keras.src.callbacks.history.History at 0x201404adf10>"
      ]
     },
     "execution_count": 16,
     "metadata": {},
     "output_type": "execute_result"
    }
   ],
   "execution_count": 16
  },
  {
   "metadata": {
    "ExecuteTime": {
     "end_time": "2025-08-05T03:38:53.481366Z",
     "start_time": "2025-08-05T02:08:54.803690Z"
    }
   },
   "cell_type": "code",
   "source": [
    "test_dir = \"TestFiles\"\n",
    "test_files = [f for f in os.listdir(test_dir) if f.endswith(\".fastq\")]\n",
    "\n",
    "test_features = []\n",
    "for fname in test_files:\n",
    "    path = os.path.join(test_dir, fname)\n",
    "    feats = extract_features_with_kmers(path)\n",
    "    if feats:\n",
    "        feats[\"filename\"] = fname\n",
    "        test_features.append(feats)\n",
    "\n",
    "df_test = pd.DataFrame(test_features)"
   ],
   "id": "77cede7cc3cd632d",
   "outputs": [],
   "execution_count": 17
  },
  {
   "metadata": {
    "ExecuteTime": {
     "end_time": "2025-08-05T11:51:42.249737Z",
     "start_time": "2025-08-05T11:51:40.752146Z"
    }
   },
   "cell_type": "code",
   "source": [
    "X_test = df_test[feature_cols]\n",
    "probs = clf.predict_proba(X_test)\n",
    "\n",
    "probs_df = pd.DataFrame(probs, columns=le.inverse_transform(clf.classes_))\n",
    "probs_df.insert(0, \"filename\", df_test[\"filename\"])\n",
    "probs_df.head()"
   ],
   "id": "42fb471ae401c1dd",
   "outputs": [
    {
     "ename": "TypeError",
     "evalue": "unhashable type: 'dict'",
     "output_type": "error",
     "traceback": [
      "\u001B[1;31m---------------------------------------------------------------------------\u001B[0m",
      "\u001B[1;31mTypeError\u001B[0m                                 Traceback (most recent call last)",
      "Cell \u001B[1;32mIn[21], line 1\u001B[0m\n\u001B[1;32m----> 1\u001B[0m X_test \u001B[38;5;241m=\u001B[39m df_test[test_features]\n\u001B[0;32m      2\u001B[0m probs \u001B[38;5;241m=\u001B[39m clf\u001B[38;5;241m.\u001B[39mpredict_proba(X_test)\n\u001B[0;32m      4\u001B[0m probs_df \u001B[38;5;241m=\u001B[39m pd\u001B[38;5;241m.\u001B[39mDataFrame(probs, columns\u001B[38;5;241m=\u001B[39mle\u001B[38;5;241m.\u001B[39minverse_transform(clf\u001B[38;5;241m.\u001B[39mclasses_))\n",
      "File \u001B[1;32m~\\anaconda3\\Lib\\site-packages\\pandas\\core\\frame.py:4108\u001B[0m, in \u001B[0;36mDataFrame.__getitem__\u001B[1;34m(self, key)\u001B[0m\n\u001B[0;32m   4106\u001B[0m     \u001B[38;5;28;01mif\u001B[39;00m is_iterator(key):\n\u001B[0;32m   4107\u001B[0m         key \u001B[38;5;241m=\u001B[39m \u001B[38;5;28mlist\u001B[39m(key)\n\u001B[1;32m-> 4108\u001B[0m     indexer \u001B[38;5;241m=\u001B[39m \u001B[38;5;28mself\u001B[39m\u001B[38;5;241m.\u001B[39mcolumns\u001B[38;5;241m.\u001B[39m_get_indexer_strict(key, \u001B[38;5;124m\"\u001B[39m\u001B[38;5;124mcolumns\u001B[39m\u001B[38;5;124m\"\u001B[39m)[\u001B[38;5;241m1\u001B[39m]\n\u001B[0;32m   4110\u001B[0m \u001B[38;5;66;03m# take() does not accept boolean indexers\u001B[39;00m\n\u001B[0;32m   4111\u001B[0m \u001B[38;5;28;01mif\u001B[39;00m \u001B[38;5;28mgetattr\u001B[39m(indexer, \u001B[38;5;124m\"\u001B[39m\u001B[38;5;124mdtype\u001B[39m\u001B[38;5;124m\"\u001B[39m, \u001B[38;5;28;01mNone\u001B[39;00m) \u001B[38;5;241m==\u001B[39m \u001B[38;5;28mbool\u001B[39m:\n",
      "File \u001B[1;32m~\\anaconda3\\Lib\\site-packages\\pandas\\core\\indexes\\base.py:6195\u001B[0m, in \u001B[0;36mIndex._get_indexer_strict\u001B[1;34m(self, key, axis_name)\u001B[0m\n\u001B[0;32m   6192\u001B[0m     keyarr \u001B[38;5;241m=\u001B[39m com\u001B[38;5;241m.\u001B[39masarray_tuplesafe(keyarr)\n\u001B[0;32m   6194\u001B[0m \u001B[38;5;28;01mif\u001B[39;00m \u001B[38;5;28mself\u001B[39m\u001B[38;5;241m.\u001B[39m_index_as_unique:\n\u001B[1;32m-> 6195\u001B[0m     indexer \u001B[38;5;241m=\u001B[39m \u001B[38;5;28mself\u001B[39m\u001B[38;5;241m.\u001B[39mget_indexer_for(keyarr)\n\u001B[0;32m   6196\u001B[0m     keyarr \u001B[38;5;241m=\u001B[39m \u001B[38;5;28mself\u001B[39m\u001B[38;5;241m.\u001B[39mreindex(keyarr)[\u001B[38;5;241m0\u001B[39m]\n\u001B[0;32m   6197\u001B[0m \u001B[38;5;28;01melse\u001B[39;00m:\n",
      "File \u001B[1;32m~\\anaconda3\\Lib\\site-packages\\pandas\\core\\indexes\\base.py:6182\u001B[0m, in \u001B[0;36mIndex.get_indexer_for\u001B[1;34m(self, target)\u001B[0m\n\u001B[0;32m   6164\u001B[0m \u001B[38;5;250m\u001B[39m\u001B[38;5;124;03m\"\"\"\u001B[39;00m\n\u001B[0;32m   6165\u001B[0m \u001B[38;5;124;03mGuaranteed return of an indexer even when non-unique.\u001B[39;00m\n\u001B[0;32m   6166\u001B[0m \n\u001B[1;32m   (...)\u001B[0m\n\u001B[0;32m   6179\u001B[0m \u001B[38;5;124;03marray([0, 2])\u001B[39;00m\n\u001B[0;32m   6180\u001B[0m \u001B[38;5;124;03m\"\"\"\u001B[39;00m\n\u001B[0;32m   6181\u001B[0m \u001B[38;5;28;01mif\u001B[39;00m \u001B[38;5;28mself\u001B[39m\u001B[38;5;241m.\u001B[39m_index_as_unique:\n\u001B[1;32m-> 6182\u001B[0m     \u001B[38;5;28;01mreturn\u001B[39;00m \u001B[38;5;28mself\u001B[39m\u001B[38;5;241m.\u001B[39mget_indexer(target)\n\u001B[0;32m   6183\u001B[0m indexer, _ \u001B[38;5;241m=\u001B[39m \u001B[38;5;28mself\u001B[39m\u001B[38;5;241m.\u001B[39mget_indexer_non_unique(target)\n\u001B[0;32m   6184\u001B[0m \u001B[38;5;28;01mreturn\u001B[39;00m indexer\n",
      "File \u001B[1;32m~\\anaconda3\\Lib\\site-packages\\pandas\\core\\indexes\\base.py:3953\u001B[0m, in \u001B[0;36mIndex.get_indexer\u001B[1;34m(self, target, method, limit, tolerance)\u001B[0m\n\u001B[0;32m   3948\u001B[0m     target \u001B[38;5;241m=\u001B[39m target\u001B[38;5;241m.\u001B[39mastype(dtype, copy\u001B[38;5;241m=\u001B[39m\u001B[38;5;28;01mFalse\u001B[39;00m)\n\u001B[0;32m   3949\u001B[0m     \u001B[38;5;28;01mreturn\u001B[39;00m this\u001B[38;5;241m.\u001B[39m_get_indexer(\n\u001B[0;32m   3950\u001B[0m         target, method\u001B[38;5;241m=\u001B[39mmethod, limit\u001B[38;5;241m=\u001B[39mlimit, tolerance\u001B[38;5;241m=\u001B[39mtolerance\n\u001B[0;32m   3951\u001B[0m     )\n\u001B[1;32m-> 3953\u001B[0m \u001B[38;5;28;01mreturn\u001B[39;00m \u001B[38;5;28mself\u001B[39m\u001B[38;5;241m.\u001B[39m_get_indexer(target, method, limit, tolerance)\n",
      "File \u001B[1;32m~\\anaconda3\\Lib\\site-packages\\pandas\\core\\indexes\\base.py:3980\u001B[0m, in \u001B[0;36mIndex._get_indexer\u001B[1;34m(self, target, method, limit, tolerance)\u001B[0m\n\u001B[0;32m   3977\u001B[0m     \u001B[38;5;28;01melse\u001B[39;00m:\n\u001B[0;32m   3978\u001B[0m         tgt_values \u001B[38;5;241m=\u001B[39m target\u001B[38;5;241m.\u001B[39m_get_engine_target()\n\u001B[1;32m-> 3980\u001B[0m     indexer \u001B[38;5;241m=\u001B[39m \u001B[38;5;28mself\u001B[39m\u001B[38;5;241m.\u001B[39m_engine\u001B[38;5;241m.\u001B[39mget_indexer(tgt_values)\n\u001B[0;32m   3982\u001B[0m \u001B[38;5;28;01mreturn\u001B[39;00m ensure_platform_int(indexer)\n",
      "File \u001B[1;32mindex.pyx:351\u001B[0m, in \u001B[0;36mpandas._libs.index.IndexEngine.get_indexer\u001B[1;34m()\u001B[0m\n",
      "File \u001B[1;32mpandas\\\\_libs\\\\hashtable_class_helper.pxi:7132\u001B[0m, in \u001B[0;36mpandas._libs.hashtable.PyObjectHashTable.lookup\u001B[1;34m()\u001B[0m\n",
      "\u001B[1;31mTypeError\u001B[0m: unhashable type: 'dict'"
     ]
    }
   ],
   "execution_count": 21
  },
  {
   "metadata": {
    "ExecuteTime": {
     "end_time": "2025-08-05T03:38:54.312746Z",
     "start_time": "2025-08-03T14:39:40.302271Z"
    }
   },
   "cell_type": "code",
   "source": [
    "required_order = [\"filename\", \"Mouth\", \"Nasal\", \"Skin\", \"Stool\"]\n",
    "for col in required_order[1:]:\n",
    "    if col not in probs_df.columns:\n",
    "        probs_df[col] = 0.0\n",
    "\n",
    "probs_df = probs_df[required_order]\n",
    "probs_df[\"filename\"] = probs_df[\"filename\"].str.replace(\".fastq\", \"\", regex=False)\n",
    "\n",
    "probs_df.head()\n",
    "probs_df.to_csv(\"test_predictions_probs.csv\", index=False)"
   ],
   "id": "f14b3b74eb5bf87b",
   "outputs": [],
   "execution_count": 34
  },
  {
   "metadata": {
    "ExecuteTime": {
     "end_time": "2025-08-05T03:38:54.679832400Z",
     "start_time": "2025-08-04T08:57:12.288418Z"
    }
   },
   "cell_type": "code",
   "source": [
    "import os\n",
    "\n",
    "decoded_dir = \"TestFiles\"\n",
    "\n",
    "for f in os.listdir(decoded_dir):\n",
    "    if f.endswith(\".fastq\"):\n",
    "        size = os.path.getsize(os.path.join(decoded_dir, f))\n",
    "        if size < 1000:  # adjust threshold depending on expected size\n",
    "            print(f\"⚠️ Small file: {f} -> {size} bytes\")\n"
   ],
   "id": "4caab53522e1472",
   "outputs": [],
   "execution_count": 93
  }
 ],
 "metadata": {
  "kernelspec": {
   "display_name": "Python 3",
   "language": "python",
   "name": "python3"
  },
  "language_info": {
   "codemirror_mode": {
    "name": "ipython",
    "version": 2
   },
   "file_extension": ".py",
   "mimetype": "text/x-python",
   "name": "python",
   "nbconvert_exporter": "python",
   "pygments_lexer": "ipython2",
   "version": "2.7.6"
  }
 },
 "nbformat": 4,
 "nbformat_minor": 5
}
