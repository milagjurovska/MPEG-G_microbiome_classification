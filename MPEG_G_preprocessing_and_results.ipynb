{
 "cells": [
  {
   "cell_type": "code",
   "id": "initial_id",
   "metadata": {
    "collapsed": true,
    "ExecuteTime": {
     "end_time": "2025-08-02T17:40:59.997981Z",
     "start_time": "2025-08-02T17:40:59.577465Z"
    }
   },
   "source": [
    "import os\n",
    "import zipfile\n",
    "import subprocess\n",
    "import random\n",
    "import pandas as pd\n",
    "import numpy as np\n",
    "import seaborn as sns\n",
    "import matplotlib.pyplot as plt\n",
    "import shutil\n",
    "\n",
    "from Bio import SeqIO\n",
    "from collections import Counter\n",
    "from itertools import product\n",
    "\n",
    "from sklearn.model_selection import train_test_split\n",
    "from sklearn.preprocessing import LabelEncoder\n",
    "from sklearn.metrics import classification_report\n",
    "\n",
    "import torch.nn as nn\n",
    "\n",
    "import warnings\n",
    "warnings.filterwarnings('ignore')"
   ],
   "outputs": [],
   "execution_count": 1
  },
  {
   "metadata": {},
   "cell_type": "markdown",
   "source": "## Explore train, test and subject info",
   "id": "d9a2e4f86a101a8a"
  },
  {
   "metadata": {
    "ExecuteTime": {
     "end_time": "2025-08-02T17:41:00.088419Z",
     "start_time": "2025-08-02T17:41:00.020938Z"
    }
   },
   "cell_type": "code",
   "source": [
    "train_df = pd.read_csv( \"Train.csv\")\n",
    "test_df = pd.read_csv(\"Test.csv\")\n",
    "train_subjects_df = pd.read_csv(\"Train_Subjects.csv\")\n",
    "ss = pd.read_csv(\"SampleSubmission.csv\")"
   ],
   "id": "7003c659761d3441",
   "outputs": [],
   "execution_count": 2
  },
  {
   "metadata": {
    "ExecuteTime": {
     "end_time": "2025-08-02T17:41:00.934213Z",
     "start_time": "2025-08-02T17:41:00.633307Z"
    }
   },
   "cell_type": "code",
   "source": [
    "print(f\"Number of unique subjects in train_df: {train_df['SubjectID'].nunique()}\")\n",
    "print(f\"Number of unique SampleType in train_df: {train_df['SampleType'].nunique()}\")\n",
    "print(f\"Number of unique Files in train_df: {train_df['filename'].nunique()}\")\n",
    "print(f\"Unique values in SampleType: {train_df['SampleType'].unique()}\")\n",
    "files_per_subject = train_df.groupby('SubjectID')['filename'].count().reset_index()\n",
    "files_per_subject = files_per_subject.rename(columns={'filename': 'FileCount'})\n",
    "average_files_per_subject = files_per_subject['FileCount'].mean()\n",
    "print(f\"Average number of files per SubjectID in train_df: {average_files_per_subject:.2f}\")\n",
    "plt.figure(figsize=(10, 6))\n",
    "plt.hist(files_per_subject['FileCount'], bins=20, edgecolor='black')\n",
    "plt.title('Distribution of Files per SubjectID in Train Data')\n",
    "plt.xlabel('Number of Files')\n",
    "plt.ylabel('Number of SubjectIDs')\n",
    "plt.grid(axis='y', alpha=0.75)\n",
    "plt.show()\n",
    "train_df.head()"
   ],
   "id": "99a3c71c3286ba7e",
   "outputs": [
    {
     "name": "stdout",
     "output_type": "stream",
     "text": [
      "Number of unique subjects in train_df: 66\n",
      "Number of unique SampleType in train_df: 4\n",
      "Number of unique Files in train_df: 2901\n",
      "Unique values in SampleType: ['Stool' 'Nasal' 'Mouth' 'Skin']\n",
      "Average number of files per SubjectID in train_df: 43.95\n"
     ]
    },
    {
     "data": {
      "text/plain": [
       "<Figure size 1000x600 with 1 Axes>"
      ],
      "image/png": "[encoded data removed]"
     },
     "metadata": {},
     "output_type": "display_data"
    },
    {
     "data": {
      "text/plain": [
       "        filename SampleType       SubjectID       SampleID\n",
       "0  ID_LETPJN.mgb      Stool  Subject_BCUNIB  Sample_AFTIWE\n",
       "1  ID_NTDGIW.mgb      Stool  Subject_UDAXIH  Sample_JQJVNK\n",
       "2  ID_ZISBMF.mgb      Nasal  Subject_VRKADI  Sample_YJWGWW\n",
       "3  ID_MDCVXU.mgb      Nasal  Subject_HIFZWD  Sample_VKEHZP\n",
       "4  ID_SWAMNY.mgb      Stool  Subject_VGLNCV  Sample_NTDTEQ"
      ],
      "text/html": [
       "<div>\n",
       "<style scoped>\n",
       "    .dataframe tbody tr th:only-of-type {\n",
       "        vertical-align: middle;\n",
       "    }\n",
       "\n",
       "    .dataframe tbody tr th {\n",
       "        vertical-align: top;\n",
       "    }\n",
       "\n",
       "    .dataframe thead th {\n",
       "        text-align: right;\n",
       "    }\n",
       "</style>\n",
       "<table border=\"1\" class=\"dataframe\">\n",
       "  <thead>\n",
       "    <tr style=\"text-align: right;\">\n",
       "      <th></th>\n",
       "      <th>filename</th>\n",
       "      <th>SampleType</th>\n",
       "      <th>SubjectID</th>\n",
       "      <th>SampleID</th>\n",
       "    </tr>\n",
       "  </thead>\n",
       "  <tbody>\n",
       "    <tr>\n",
       "      <th>0</th>\n",
       "      <td>ID_LETPJN.mgb</td>\n",
       "      <td>Stool</td>\n",
       "      <td>Subject_BCUNIB</td>\n",
       "      <td>Sample_AFTIWE</td>\n",
       "    </tr>\n",
       "    <tr>\n",
       "      <th>1</th>\n",
       "      <td>ID_NTDGIW.mgb</td>\n",
       "      <td>Stool</td>\n",
       "      <td>Subject_UDAXIH</td>\n",
       "      <td>Sample_JQJVNK</td>\n",
       "    </tr>\n",
       "    <tr>\n",
       "      <th>2</th>\n",
       "      <td>ID_ZISBMF.mgb</td>\n",
       "      <td>Nasal</td>\n",
       "      <td>Subject_VRKADI</td>\n",
       "      <td>Sample_YJWGWW</td>\n",
       "    </tr>\n",
       "    <tr>\n",
       "      <th>3</th>\n",
       "      <td>ID_MDCVXU.mgb</td>\n",
       "      <td>Nasal</td>\n",
       "      <td>Subject_HIFZWD</td>\n",
       "      <td>Sample_VKEHZP</td>\n",
       "    </tr>\n",
       "    <tr>\n",
       "      <th>4</th>\n",
       "      <td>ID_SWAMNY.mgb</td>\n",
       "      <td>Stool</td>\n",
       "      <td>Subject_VGLNCV</td>\n",
       "      <td>Sample_NTDTEQ</td>\n",
       "    </tr>\n",
       "  </tbody>\n",
       "</table>\n",
       "</div>"
      ]
     },
     "execution_count": 3,
     "metadata": {},
     "output_type": "execute_result"
    }
   ],
   "execution_count": 3
  },
  {
   "metadata": {
    "ExecuteTime": {
     "end_time": "2025-08-02T17:41:06.179579Z",
     "start_time": "2025-08-02T17:41:06.167230Z"
    }
   },
   "cell_type": "code",
   "source": [
    "print(f\"Number of unique Files in test_df: {test_df['filename'].nunique()}\")\n",
    "test_df.head()"
   ],
   "id": "e10c340f69194596",
   "outputs": [
    {
     "name": "stdout",
     "output_type": "stream",
     "text": [
      "Number of unique Files in test_df: 1068\n"
     ]
    },
    {
     "data": {
      "text/plain": [
       "        filename\n",
       "0  ID_YBNOYC.mgb\n",
       "1  ID_HPVLUO.mgb\n",
       "2  ID_DQGGYD.mgb\n",
       "3  ID_XZBUJB.mgb\n",
       "4  ID_KRPYRQ.mgb"
      ],
      "text/html": [
       "<div>\n",
       "<style scoped>\n",
       "    .dataframe tbody tr th:only-of-type {\n",
       "        vertical-align: middle;\n",
       "    }\n",
       "\n",
       "    .dataframe tbody tr th {\n",
       "        vertical-align: top;\n",
       "    }\n",
       "\n",
       "    .dataframe thead th {\n",
       "        text-align: right;\n",
       "    }\n",
       "</style>\n",
       "<table border=\"1\" class=\"dataframe\">\n",
       "  <thead>\n",
       "    <tr style=\"text-align: right;\">\n",
       "      <th></th>\n",
       "      <th>filename</th>\n",
       "    </tr>\n",
       "  </thead>\n",
       "  <tbody>\n",
       "    <tr>\n",
       "      <th>0</th>\n",
       "      <td>ID_YBNOYC.mgb</td>\n",
       "    </tr>\n",
       "    <tr>\n",
       "      <th>1</th>\n",
       "      <td>ID_HPVLUO.mgb</td>\n",
       "    </tr>\n",
       "    <tr>\n",
       "      <th>2</th>\n",
       "      <td>ID_DQGGYD.mgb</td>\n",
       "    </tr>\n",
       "    <tr>\n",
       "      <th>3</th>\n",
       "      <td>ID_XZBUJB.mgb</td>\n",
       "    </tr>\n",
       "    <tr>\n",
       "      <th>4</th>\n",
       "      <td>ID_KRPYRQ.mgb</td>\n",
       "    </tr>\n",
       "  </tbody>\n",
       "</table>\n",
       "</div>"
      ]
     },
     "execution_count": 4,
     "metadata": {},
     "output_type": "execute_result"
    }
   ],
   "execution_count": 4
  },
  {
   "metadata": {},
   "cell_type": "markdown",
   "source": "## Explore fastq files",
   "id": "951367f2d49b678c"
  },
  {
   "metadata": {
    "jupyter": {
     "is_executing": true
    },
    "ExecuteTime": {
     "start_time": "2025-08-02T18:50:07.166692Z"
    }
   },
   "cell_type": "code",
   "source": [
    "fastq_dir = \"TrainFiles\"\n",
    "all_stats = []\n",
    "\n",
    "for fname in os.listdir(fastq_dir):\n",
    "    if not fname.endswith(\".fastq\"):\n",
    "        continue\n",
    "\n",
    "    path = os.path.join(fastq_dir, fname)\n",
    "    read_lengths = []\n",
    "    gc_counts = []\n",
    "    nt_counts = Counter()\n",
    "\n",
    "    try:\n",
    "        for record in SeqIO.parse(path, \"fastq\"):\n",
    "            seq = str(record.seq)\n",
    "            read_lengths.append(len(seq))\n",
    "            gc_counts.append(seq.count(\"G\") + seq.count(\"C\"))\n",
    "            nt_counts.update(seq)\n",
    "\n",
    "        if read_lengths:\n",
    "            stats = {\n",
    "                \"file\": fname,\n",
    "                \"num_reads\": len(read_lengths),\n",
    "                \"avg_read_length\": sum(read_lengths) / len(read_lengths),\n",
    "                \"avg_gc_content\": sum(gc_counts) / sum(read_lengths),\n",
    "                \"A\": nt_counts[\"A\"],\n",
    "                \"T\": nt_counts[\"T\"],\n",
    "                \"G\": nt_counts[\"G\"],\n",
    "                \"C\": nt_counts[\"C\"]\n",
    "            }\n",
    "            all_stats.append(stats)\n",
    "\n",
    "    except Exception as e:\n",
    "        print(f\"Error parsing {fname}: {e}\")\n",
    "\n",
    "df = pd.DataFrame(all_stats)\n",
    "print(df.head())"
   ],
   "id": "4b8f47f7be708f16",
   "outputs": [],
   "execution_count": null
  },
  {
   "metadata": {},
   "cell_type": "code",
   "outputs": [],
   "execution_count": null,
   "source": [
    "df.info()\n",
    "plt.figure()\n",
    "plt.hist(df[\"avg_gc_content\"], bins=20, color='gray')\n",
    "plt.title(\"GC Content Distribution\")\n",
    "plt.xlabel(\"GC Content\")\n",
    "plt.ylabel(\"Number of Files\")\n",
    "plt.show()"
   ],
   "id": "f30162bd45e414e0"
  },
  {
   "metadata": {},
   "cell_type": "code",
   "outputs": [],
   "execution_count": null,
   "source": [
    "fastq_dir = \"TrainFiles\"\n",
    "labels = ['Nasal', 'Stool', 'Mouth', 'Skin']\n",
    "\n",
    "file_list = [f for f in os.listdir(fastq_dir) if f.endswith(\".fastq\")]\n",
    "\n",
    "data = {\n",
    "    \"filename\": file_list,\n",
    "    \"label\": [random.choice(labels) for _ in file_list]\n",
    "}\n",
    "\n",
    "df_labels = pd.DataFrame(data)\n",
    "\n",
    "df_labels = df_labels.sort_values(\"filename\").reset_index(drop=True)\n",
    "\n",
    "df_labels.head()"
   ],
   "id": "4c35f9610b618cfe"
  },
  {
   "metadata": {},
   "cell_type": "code",
   "outputs": [],
   "execution_count": null,
   "source": [
    "label_counts = df_labels['label'].value_counts()\n",
    "\n",
    "plt.figure(figsize=(8, 6))\n",
    "label_counts.plot(kind='bar', color='skyblue')\n",
    "plt.title('Distribution of Labels')\n",
    "plt.xlabel('Label')\n",
    "plt.ylabel('Count')\n",
    "plt.xticks(rotation=45, ha='right')\n",
    "plt.tight_layout()"
   ],
   "id": "8c0b5d07ad59d944"
  },
  {
   "metadata": {},
   "cell_type": "code",
   "outputs": [],
   "execution_count": null,
   "source": "sns.heatmap(df.corr(), annot=True)",
   "id": "5c022814ad4d7241"
  },
  {
   "metadata": {},
   "cell_type": "markdown",
   "source": "## Extract features",
   "id": "ee4dd87445a3301a"
  },
  {
   "metadata": {},
   "cell_type": "code",
   "outputs": [],
   "execution_count": null,
   "source": [
    "def get_kmers(sequence, k):\n",
    "    return [sequence[i:i+k] for i in range(len(sequence)-k+1)]\n",
    "\n",
    "def count_kmers(sequence, k):\n",
    "    kmers = get_kmers(sequence, k)\n",
    "    return Counter(kmers)\n",
    "\n",
    "def normalize(counter):\n",
    "    total = sum(counter.values())\n",
    "    return {k: v / total for k, v in counter.items()}\n",
    "\n",
    "def vectorize_kmers(kmer_counts, k):\n",
    "    all_kmers = [''.join(p) for p in product('ACGT', repeat=k)]\n",
    "    return np.array([kmer_counts.get(kmer, 0) for kmer in all_kmers])"
   ],
   "id": "9777e1ac655187c6"
  },
  {
   "metadata": {},
   "cell_type": "code",
   "outputs": [],
   "execution_count": null,
   "source": [
    "class DNAEncoder(nn.Module):\n",
    "    def __init__(self, seq_len=500, hidden_dim=64):\n",
    "        super().__init__()\n",
    "        self.encoder = nn.Sequential(\n",
    "            nn.Conv1d(4, 32, kernel_size=3, padding=1),\n",
    "            nn.ReLU(),\n",
    "            nn.MaxPool1d(2),\n",
    "            nn.Conv1d(32, 64, kernel_size=3, padding=1),\n",
    "            nn.ReLU(),\n",
    "            nn.AdaptiveAvgPool1d(1)\n",
    "        )\n",
    "\n",
    "    def forward(self, x):\n",
    "        return self.encoder(x).squeeze(-1)"
   ],
   "id": "8438d45522891c08"
  }
 ],
 "metadata": {
  "kernelspec": {
   "display_name": "Python 3",
   "language": "python",
   "name": "python3"
  },
  "language_info": {
   "codemirror_mode": {
    "name": "ipython",
    "version": 2
   },
   "file_extension": ".py",
   "mimetype": "text/x-python",
   "name": "python",
   "nbconvert_exporter": "python",
   "pygments_lexer": "ipython2",
   "version": "2.7.6"
  }
 },
 "nbformat": 4,
 "nbformat_minor": 5
}
