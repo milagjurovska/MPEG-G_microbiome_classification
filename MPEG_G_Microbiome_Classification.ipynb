{
 "cells": [
  {
   "metadata": {
    "ExecuteTime": {
     "end_time": "2025-07-24T08:46:23.697526Z",
     "start_time": "2025-07-24T08:46:18.668297Z"
    }
   },
   "cell_type": "code",
   "source": [
    "import os\n",
    "import zipfile\n",
    "import subprocess\n",
    "import random\n",
    "import pandas as pd\n",
    "import numpy as np\n",
    "import matplotlib.pyplot as plt\n",
    "import shutil\n",
    "\n",
    "from Bio import SeqIO\n",
    "from collections import Counter\n",
    "\n",
    "from sklearn.ensemble import RandomForestClassifier\n",
    "from sklearn.model_selection import train_test_split\n",
    "from sklearn.preprocessing import LabelEncoder\n",
    "from sklearn.metrics import classification_report\n",
    "import warnings\n",
    "warnings.filterwarnings('ignore')"
   ],
   "id": "16ed356a43039bf6",
   "outputs": [],
   "execution_count": 4
  },
  {
   "metadata": {
    "collapsed": true,
    "ExecuteTime": {
     "end_time": "2025-07-24T08:48:22.515198Z",
     "start_time": "2025-07-24T08:46:25.455432Z"
    }
   },
   "cell_type": "code",
   "source": [
    "zip_targets = {\n",
    "    'TrainFiles.zip': './',\n",
    "    'TestFiles.zip': './'\n",
    "}\n",
    "\n",
    "for zip_path, extract_to in zip_targets.items():\n",
    "    # Create the output directory if it doesn't exist\n",
    "    os.makedirs(extract_to, exist_ok=True)\n",
    "\n",
    "    # Extract zip content\n",
    "    with zipfile.ZipFile(zip_path, 'r') as zip_ref:\n",
    "        zip_ref.extractall(extract_to)\n",
    "        print(f\"✅ Extracted {zip_path} to ./{extract_to}/\")"
   ],
   "id": "initial_id",
   "outputs": [
    {
     "name": "stdout",
     "output_type": "stream",
     "text": [
      "✅ Extracted TrainFiles.zip to ././/\n",
      "✅ Extracted TestFiles.zip to ././/\n"
     ]
    }
   ],
   "execution_count": 5
  },
  {
   "metadata": {
    "ExecuteTime": {
     "end_time": "2025-07-24T08:44:07.971665Z",
     "start_time": "2025-07-24T07:57:29.327786Z"
    }
   },
   "cell_type": "code",
   "source": "!docker pull muefab/genie:latest",
   "id": "7dc5aa6ad2bbdd18",
   "outputs": [
    {
     "name": "stdout",
     "output_type": "stream",
     "text": [
      "latest: Pulling from muefab/genie\n",
      "4f4fb700ef54: Pulling fs layer\n",
      "b0907bbb508f: Pulling fs layer\n",
      "846abc99b13f: Pulling fs layer\n",
      "4619a895afbd: Pulling fs layer\n",
      "bb6c686a0e98: Pulling fs layer\n",
      "4f4fb700ef54: Already exists\n",
      "4619a895afbd: Already exists\n",
      "b0907bbb508f: Already exists\n",
      "846abc99b13f: Already exists\n",
      "bb6c686a0e98: Download complete\n",
      "bb6c686a0e98: Pull complete\n",
      "4619a895afbd: Pull complete\n",
      "b0907bbb508f: Pull complete\n",
      "846abc99b13f: Pull complete\n",
      "4f4fb700ef54: Pull complete\n",
      "Digest: sha256:c3112a3879cc18061bbab5ed8f76dec255ab1be46e2133cd59320dd5ba98ef89\n",
      "Status: Downloaded newer image for muefab/genie:latest\n",
      "docker.io/muefab/genie:latest\n"
     ]
    }
   ],
   "execution_count": 2
  },
  {
   "metadata": {
    "ExecuteTime": {
     "end_time": "2025-07-24T08:48:22.568818Z",
     "start_time": "2025-07-24T08:48:22.561155Z"
    }
   },
   "cell_type": "code",
   "source": [
    "notebook_dir = os.getcwd()\n",
    "\n",
    "# Pick one `.mgb` file from TrainFiles\n",
    "mgb_filename = \"ID_ZZWUCJ.mgb\"\n",
    "mgb_filename_no_mgb = mgb_filename[:-4]\n",
    "train_dir = os.path.join(os.getcwd(), \"TestFiles\")\n",
    "mgb_file_path = os.path.join(train_dir, mgb_filename)\n",
    "\n",
    "# Output location for decoded FASTQ\n",
    "output_fastq = f\"{mgb_filename_no_mgb}.fastq\"\n",
    "\n",
    "# Docker mount paths\n",
    "host_dir = train_dir                # Local directory with the `.mgb` file\n",
    "container_dir = \"/data\"             # Directory inside the container\n",
    "\n",
    "# Show paths\n",
    "print(f\"📁 Host path to `.mgb`: {mgb_file_path}\")\n",
    "print(f\"📁 Host directory mounted: {host_dir}\")\n",
    "print(f\"📦 Container directory will be: {container_dir}\")\n",
    "print(f\"📄 Output FASTQ: {output_fastq}\")"
   ],
   "id": "eca672777e052793",
   "outputs": [
    {
     "name": "stdout",
     "output_type": "stream",
     "text": [
      "📁 Host path to `.mgb`: C:\\Users\\milam\\PycharmProjects\\PythonProject\\TestFiles\\ID_ZZWUCJ.mgb\n",
      "📁 Host directory mounted: C:\\Users\\milam\\PycharmProjects\\PythonProject\\TestFiles\n",
      "📦 Container directory will be: /data\n",
      "📄 Output FASTQ: ID_ZZWUCJ.fastq\n"
     ]
    }
   ],
   "execution_count": 6
  },
  {
   "metadata": {},
   "cell_type": "code",
   "outputs": [],
   "execution_count": null,
   "source": [
    "def inspect_mgb_structure(host_dir=\".\", container_dir=\"/work\", mgb_filename=mgb_filename):\n",
    "    command = [\n",
    "        \"docker\", \"run\", \"--rm\",\n",
    "        \"-v\", f\"{host_dir}:{container_dir}\",\n",
    "        \"muefab/genie:latest\", \"run\",  # ✅ Add \"run\" subcommand here\n",
    "        \"-f\",\n",
    "        \"-i\", f\"{container_dir}/TestFiles/{mgb_filename}\",\n",
    "        \"-o\", f\"{container_dir}/TestFiles/{mgb_filename_no_mgb}.fastq\"\n",
    "    ]\n",
    "    print(\"Running:\", \" \".join(command))\n",
    "    result = subprocess.run(command, capture_output=True, text=True)\n",
    "    print(\"\\n--- STDOUT ---\\n\")\n",
    "    print(result.stdout)\n",
    "    if result.stderr:\n",
    "        print(\"\\n--- STDERR ---\\n\")\n",
    "        print(result.stderr)\n",
    "\n",
    "inspect_mgb_structure()"
   ],
   "id": "b60f4baea3bc7b45"
  },
  {
   "metadata": {},
   "cell_type": "code",
   "outputs": [],
   "execution_count": null,
   "source": [
    "# Safer path for Windows (forward slashes or raw string)\n",
    "fastq_path = os.path.join(os.getcwd(), train_dir, f\"{mgb_filename_no_mgb}.fastq\")\n",
    "\n",
    "# Check if the file exists before parsing\n",
    "if not os.path.exists(fastq_path):\n",
    "    print(f\"❌ FASTQ file not found at: {fastq_path}\")\n",
    "else:\n",
    "    total_reads = 0\n",
    "    read_lengths = []\n",
    "    quality_scores = []\n",
    "\n",
    "    for record in SeqIO.parse(fastq_path, \"fastq\"):\n",
    "        total_reads += 1\n",
    "        read_lengths.append(len(record.seq))\n",
    "        quality_scores.extend(record.letter_annotations[\"phred_quality\"])\n",
    "\n",
    "    print(f\"🔍 Total reads: {total_reads}\")\n",
    "    print(f\"📏 Avg read length: {sum(read_lengths)/len(read_lengths):.1f} bp\")\n",
    "    print(f\"🎯 Avg quality score: {sum(quality_scores)/len(quality_scores):.1f}\")\n"
   ],
   "id": "96e824bee6739a65"
  },
  {
   "metadata": {},
   "cell_type": "code",
   "outputs": [],
   "execution_count": null,
   "source": [
    "print(\"🧪 First 3 reads:\\n\")\n",
    "for i, record in enumerate(SeqIO.parse(fastq_path, \"fastq\")):\n",
    "    print(f\"🔹 ID: {record.id}\")\n",
    "    print(f\"🔹 SEQ: {record.seq[:50]}...\")  # just preview first 50 bp\n",
    "    print(f\"🔹 QUALITY: {record.letter_annotations['phred_quality'][:10]}...\\n\")\n",
    "    if i >= 2:\n",
    "        break\n"
   ],
   "id": "95007b9a8b82c337"
  },
  {
   "metadata": {},
   "cell_type": "code",
   "outputs": [],
   "execution_count": null,
   "source": [
    "notebook_dir = os.getcwd()\n",
    "container_dir = \"/data\"\n",
    "\n",
    "def decode_all_mgb_in_folder(folder_name):\n",
    "    host_dir = os.path.join(notebook_dir, folder_name)\n",
    "    for mgb_filename in os.listdir(host_dir):\n",
    "        if not mgb_filename.endswith(\".mgb\"):\n",
    "            continue\n",
    "\n",
    "        mgb_filename_no_ext = os.path.splitext(mgb_filename)[0]\n",
    "        print(f\"\\n🔄 Decoding: {mgb_filename}\")\n",
    "\n",
    "        command = [\n",
    "            \"docker\", \"run\", \"--rm\",\n",
    "            \"-v\", f\"{host_dir}:{container_dir}\",\n",
    "            \"muefab/genie:latest\", \"run\",\n",
    "            \"-f\",\n",
    "            \"-i\", f\"{container_dir}/{mgb_filename}\",\n",
    "            \"-o\", f\"{container_dir}/{mgb_filename_no_ext}.fastq\"\n",
    "        ]\n",
    "\n",
    "        print(\"Running:\", \" \".join(command))\n",
    "        result = subprocess.run(command, capture_output=True, text=True)\n",
    "\n",
    "        \"\"\"\n",
    "        Caution on printing out each line as this does take up memory.\n",
    "\n",
    "        print(\"\\n--- STDOUT ---\\n\")\n",
    "        print(result.stdout)\n",
    "        if result.stderr:\n",
    "            print(\"\\n--- STDERR ---\\n\")\n",
    "            print(result.stderr)#\n",
    "\n",
    "        \"\"\""
   ],
   "id": "e5ec74dfb131749"
  },
  {
   "metadata": {},
   "cell_type": "code",
   "outputs": [],
   "execution_count": null,
   "source": [
    "decode_all_mgb_in_folder(\"TrainFiles\")\n",
    "decode_all_mgb_in_folder(\"TestFiles\")"
   ],
   "id": "de0f2a32d8acd548"
  }
 ],
 "metadata": {
  "kernelspec": {
   "display_name": "Python 3",
   "language": "python",
   "name": "python3"
  },
  "language_info": {
   "codemirror_mode": {
    "name": "ipython",
    "version": 2
   },
   "file_extension": ".py",
   "mimetype": "text/x-python",
   "name": "python",
   "nbconvert_exporter": "python",
   "pygments_lexer": "ipython2",
   "version": "2.7.6"
  }
 },
 "nbformat": 4,
 "nbformat_minor": 5
}
